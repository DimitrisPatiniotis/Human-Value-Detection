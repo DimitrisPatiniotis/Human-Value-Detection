{
 "cells": [
  {
   "cell_type": "markdown",
   "metadata": {
    "colab_type": "text",
    "id": "view-in-github"
   },
   "source": [
    "<a href=\"https://colab.research.google.com/github/NielsRogge/Transformers-Tutorials/blob/master/BERT/Fine_tuning_BERT_(and_friends)_for_multi_label_text_classification.ipynb\" target=\"_parent\"><img src=\"https://colab.research.google.com/assets/colab-badge.svg\" alt=\"Open In Colab\"/></a>"
   ]
  },
  {
   "cell_type": "markdown",
   "metadata": {
    "id": "kLB3I4FKZ5Lr"
   },
   "source": [
    "# Fine-tuning BERT (and friends) for multi-label text classification\n",
    "\n",
    "In this notebook, we are going to fine-tune BERT to predict one or more labels for a given piece of text. Note that this notebook illustrates how to fine-tune a bert-base-uncased model, but you can also fine-tune a RoBERTa, DeBERTa, DistilBERT, CANINE, ... checkpoint in the same way. \n",
    "\n",
    "All of those work in the same way: they add a linear layer on top of the base model, which is used to produce a tensor of shape (batch_size, num_labels), indicating the unnormalized scores for a number of labels for every example in the batch.\n",
    "\n",
    "\n",
    "\n",
    "## Set-up environment\n",
    "\n",
    "First, we install the libraries which we'll use: HuggingFace Transformers and Datasets."
   ]
  },
  {
   "cell_type": "code",
   "execution_count": 1,
   "metadata": {
    "id": "4wxY3x-ZZz8h"
   },
   "outputs": [],
   "source": [
    "#!pip install -q transformers datasets"
   ]
  },
  {
   "cell_type": "markdown",
   "metadata": {
    "id": "bIH9NP0MZ6-O"
   },
   "source": [
    "## Load dataset\n",
    "\n",
    "Next, let's download a multi-label text classification dataset from the [hub](https://huggingface.co/).\n",
    "\n",
    "At the time of writing, I picked a random one as follows:   \n",
    "\n",
    "* first, go to the \"datasets\" tab on huggingface.co\n",
    "* next, select the \"multi-label-classification\" tag on the left as well as the the \"1k<10k\" tag (fo find a relatively small dataset).\n",
    "\n",
    "Note that you can also easily load your local data (i.e. csv files, txt files, Parquet files, JSON, ...) as explained [here](https://huggingface.co/docs/datasets/loading.html#local-and-remote-files).\n",
    "\n"
   ]
  },
  {
   "cell_type": "code",
   "execution_count": 2,
   "metadata": {},
   "outputs": [],
   "source": [
    "import random\n",
    "import numpy as np\n",
    "import torch\n",
    "\n",
    "seed = 2022\n",
    "\n",
    "random.seed(seed)\n",
    "np.random.seed(seed)\n",
    "torch.manual_seed(seed)\n",
    "if torch.cuda.is_available():\n",
    "    torch.cuda.manual_seed_all(seed)"
   ]
  },
  {
   "cell_type": "code",
   "execution_count": 3,
   "metadata": {
    "colab": {
     "base_uri": "https://localhost:8080/",
     "height": 86,
     "referenced_widgets": [
      "9a1aa9f2cc29473f9f8e5459d2641e76",
      "308fa6a7348140ec981a8d6c7d31f346",
      "8bc92587e35443488445e7521fbd0a13",
      "091f8220f33241f288faa0612853585f",
      "1045bb16e3694410898a73cf1b848917",
      "cb95e545fbdd4e99903bf634df694c9f",
      "5080d322a8034924b652b379c04667ed",
      "8b1899a0c4b144d7a5e6599f8afb8b65",
      "6111a73e684a47769bda7183a836ee91",
      "cd3570ddf67541d7818d97e236c54e54",
      "bbba60f793c14100934a268063f63d26"
     ]
    },
    "id": "sd1LiXGjZ420",
    "outputId": "1b5783cd-0e4e-4c92-c67c-57b9288f2381"
   },
   "outputs": [],
   "source": [
    "import pandas as pd\n",
    "\n",
    "datadir = '../../../Data'\n",
    "\n",
    "df_args = pd.read_csv(datadir + '/arguments-training.tsv', sep = '\\t')\n",
    "df_lbls = pd.read_table(datadir + '/labels-training.tsv')\n",
    "df_train = df_args.merge(df_lbls, how=\"left\", on=\"Argument ID\")\n",
    "\n",
    "df_args = pd.read_csv(datadir + '/arguments-validation.tsv', sep = '\\t')\n",
    "df_lbls = pd.read_table(datadir + '/labels-validation.tsv')\n",
    "df_validation = df_args.merge(df_lbls, how=\"left\", on=\"Argument ID\")\n",
    "\n",
    "#df_args = pd.read_csv(datadir + '/arguments-test.tsv', sep = '\\t')\n",
    "#df_lbls = pd.read_table(datadir + '/labels-validation.tsv')\n",
    "#df_test = df_args.merge(df_lbls, how=\"left\", on=\"Argument ID\")\n",
    "# print(df)\n",
    "\n",
    "from datasets import Dataset, DatasetDict\n",
    "train_dataset      = Dataset.from_pandas(df_train,      split=\"train\")\n",
    "validation_dataset = Dataset.from_pandas(df_validation, split=\"validation\")\n",
    "test_dataset       = Dataset.from_pandas(df_validation, split=\"test\")\n",
    "dataset            = DatasetDict({ \"train\": train_dataset, \"validation\": validation_dataset, \"test\": test_dataset })"
   ]
  },
  {
   "cell_type": "markdown",
   "metadata": {
    "id": "QCL02vQgxYTO"
   },
   "source": [
    "As we can see, the dataset contains 3 splits: one for training, one for validation and one for testing."
   ]
  },
  {
   "cell_type": "code",
   "execution_count": 4,
   "metadata": {
    "colab": {
     "base_uri": "https://localhost:8080/"
    },
    "id": "pRd1kXQZjYIY",
    "outputId": "8021590c-5607-4a9c-a474-bc57da503c93"
   },
   "outputs": [
    {
     "data": {
      "text/plain": [
       "DatasetDict({\n",
       "    train: Dataset({\n",
       "        features: ['Argument ID', 'Conclusion', 'Stance', 'Premise', 'Self-direction: thought', 'Self-direction: action', 'Stimulation', 'Hedonism', 'Achievement', 'Power: dominance', 'Power: resources', 'Face', 'Security: personal', 'Security: societal', 'Tradition', 'Conformity: rules', 'Conformity: interpersonal', 'Humility', 'Benevolence: caring', 'Benevolence: dependability', 'Universalism: concern', 'Universalism: nature', 'Universalism: tolerance', 'Universalism: objectivity', '__index_level_0__'],\n",
       "        num_rows: 5393\n",
       "    })\n",
       "    validation: Dataset({\n",
       "        features: ['Argument ID', 'Conclusion', 'Stance', 'Premise', 'Self-direction: thought', 'Self-direction: action', 'Stimulation', 'Hedonism', 'Achievement', 'Power: dominance', 'Power: resources', 'Face', 'Security: personal', 'Security: societal', 'Tradition', 'Conformity: rules', 'Conformity: interpersonal', 'Humility', 'Benevolence: caring', 'Benevolence: dependability', 'Universalism: concern', 'Universalism: nature', 'Universalism: tolerance', 'Universalism: objectivity', '__index_level_0__'],\n",
       "        num_rows: 1896\n",
       "    })\n",
       "    test: Dataset({\n",
       "        features: ['Argument ID', 'Conclusion', 'Stance', 'Premise', 'Self-direction: thought', 'Self-direction: action', 'Stimulation', 'Hedonism', 'Achievement', 'Power: dominance', 'Power: resources', 'Face', 'Security: personal', 'Security: societal', 'Tradition', 'Conformity: rules', 'Conformity: interpersonal', 'Humility', 'Benevolence: caring', 'Benevolence: dependability', 'Universalism: concern', 'Universalism: nature', 'Universalism: tolerance', 'Universalism: objectivity', '__index_level_0__'],\n",
       "        num_rows: 1896\n",
       "    })\n",
       "})"
      ]
     },
     "execution_count": 4,
     "metadata": {},
     "output_type": "execute_result"
    }
   ],
   "source": [
    "dataset"
   ]
  },
  {
   "cell_type": "markdown",
   "metadata": {
    "id": "PgS0wMWExcqP"
   },
   "source": [
    "Let's check the first example of the training split:"
   ]
  },
  {
   "cell_type": "code",
   "execution_count": 5,
   "metadata": {
    "colab": {
     "base_uri": "https://localhost:8080/"
    },
    "id": "unjuTtKUjZI3",
    "outputId": "6f1e5051-8272-40f9-ced8-ba17a105e904"
   },
   "outputs": [
    {
     "data": {
      "text/plain": [
       "{'Argument ID': 'A01002',\n",
       " 'Conclusion': 'We should ban human cloning',\n",
       " 'Stance': 'in favor of',\n",
       " 'Premise': 'we should ban human cloning as it will only cause huge issues when you have a bunch of the same humans running around all acting the same.',\n",
       " 'Self-direction: thought': 0,\n",
       " 'Self-direction: action': 0,\n",
       " 'Stimulation': 0,\n",
       " 'Hedonism': 0,\n",
       " 'Achievement': 0,\n",
       " 'Power: dominance': 0,\n",
       " 'Power: resources': 0,\n",
       " 'Face': 0,\n",
       " 'Security: personal': 0,\n",
       " 'Security: societal': 1,\n",
       " 'Tradition': 0,\n",
       " 'Conformity: rules': 0,\n",
       " 'Conformity: interpersonal': 0,\n",
       " 'Humility': 0,\n",
       " 'Benevolence: caring': 0,\n",
       " 'Benevolence: dependability': 0,\n",
       " 'Universalism: concern': 0,\n",
       " 'Universalism: nature': 0,\n",
       " 'Universalism: tolerance': 0,\n",
       " 'Universalism: objectivity': 0,\n",
       " '__index_level_0__': 0}"
      ]
     },
     "execution_count": 5,
     "metadata": {},
     "output_type": "execute_result"
    }
   ],
   "source": [
    "example = dataset['train'][0]\n",
    "example"
   ]
  },
  {
   "cell_type": "markdown",
   "metadata": {
    "id": "6DV0Rtetxgd4"
   },
   "source": [
    "The dataset consists of arguments, labeled with one or more values. \n",
    "\n",
    "Let's create a list that contains the labels, as well as 2 dictionaries that map labels to integers and back."
   ]
  },
  {
   "cell_type": "code",
   "execution_count": 6,
   "metadata": {
    "colab": {
     "base_uri": "https://localhost:8080/"
    },
    "id": "e5vZhQpvkE8s",
    "outputId": "5d513b30-f209-492f-c6ab-245d64a67d40"
   },
   "outputs": [
    {
     "data": {
      "text/plain": [
       "['Self-direction: thought',\n",
       " 'Self-direction: action',\n",
       " 'Stimulation',\n",
       " 'Hedonism',\n",
       " 'Achievement',\n",
       " 'Power: dominance',\n",
       " 'Power: resources',\n",
       " 'Face',\n",
       " 'Security: personal',\n",
       " 'Security: societal',\n",
       " 'Tradition',\n",
       " 'Conformity: rules',\n",
       " 'Conformity: interpersonal',\n",
       " 'Humility',\n",
       " 'Benevolence: caring',\n",
       " 'Benevolence: dependability',\n",
       " 'Universalism: concern',\n",
       " 'Universalism: nature',\n",
       " 'Universalism: tolerance',\n",
       " 'Universalism: objectivity']"
      ]
     },
     "execution_count": 6,
     "metadata": {},
     "output_type": "execute_result"
    }
   ],
   "source": [
    "labels = [label for label in dataset['train'].features.keys() if label not in ['Argument ID', 'Conclusion', 'Stance', 'Premise', '__index_level_0__']]\n",
    "#labels.sort()\n",
    "id2label = {idx:label for idx, label in enumerate(labels)}\n",
    "label2id = {label:idx for idx, label in enumerate(labels)}\n",
    "labels"
   ]
  },
  {
   "cell_type": "markdown",
   "metadata": {
    "id": "nJ3Teyjmank2"
   },
   "source": [
    "## Preprocess data\n",
    "\n",
    "As models like BERT don't expect text as direct input, but rather `input_ids`, etc., we tokenize the text using the tokenizer. Here I'm using the `AutoTokenizer` API, which will automatically load the appropriate tokenizer based on the checkpoint on the hub.\n",
    "\n",
    "What's a bit tricky is that we also need to provide labels to the model. For multi-label text classification, this is a matrix of shape (batch_size, num_labels). Also important: this should be a tensor of floats rather than integers, otherwise PyTorch' `BCEWithLogitsLoss` (which the model will use) will complain, as explained [here](https://discuss.pytorch.org/t/multi-label-binary-classification-result-type-float-cant-be-cast-to-the-desired-output-type-long/117915/3)."
   ]
  },
  {
   "cell_type": "code",
   "execution_count": 7,
   "metadata": {
    "id": "AFWlSsbZaRLc"
   },
   "outputs": [],
   "source": [
    "from transformers import AutoTokenizer\n",
    "import numpy as np\n",
    "\n",
    "tokenizer = AutoTokenizer.from_pretrained(\"bert-base-uncased\")\n",
    "\n",
    "def preprocess_data(examples):\n",
    "    # take a batch of texts\n",
    "    premise    = examples[\"Premise\"]\n",
    "    conclusion = examples[\"Conclusion\"]\n",
    "    # encode them\n",
    "    encoding = tokenizer(conclusion, premise, padding=\"max_length\", truncation=True, max_length=128)\n",
    "    # add labels\n",
    "    labels_batch = {k: examples[k] for k in examples.keys() if k in labels}\n",
    "    # create numpy array of shape (batch_size, num_labels)\n",
    "    labels_matrix = np.zeros((len(premise), len(labels)))\n",
    "    # fill numpy array\n",
    "    for idx, label in enumerate(labels):\n",
    "        labels_matrix[:, idx] = labels_batch[label]\n",
    "\n",
    "    encoding[\"labels\"] = labels_matrix.tolist()\n",
    "\n",
    "    return encoding"
   ]
  },
  {
   "cell_type": "code",
   "execution_count": 8,
   "metadata": {
    "colab": {
     "base_uri": "https://localhost:8080/"
    },
    "id": "i4ENBTdulBEI",
    "outputId": "02554a1f-4961-461a-bf29-555b8debeabf"
   },
   "outputs": [
    {
     "data": {
      "application/vnd.jupyter.widget-view+json": {
       "model_id": "a70b4af0ac7648b4aa01c881bbee44d2",
       "version_major": 2,
       "version_minor": 0
      },
      "text/plain": [
       "  0%|          | 0/6 [00:00<?, ?ba/s]"
      ]
     },
     "metadata": {},
     "output_type": "display_data"
    },
    {
     "data": {
      "application/vnd.jupyter.widget-view+json": {
       "model_id": "7007f032933f4c39a1c31a62ed7496b7",
       "version_major": 2,
       "version_minor": 0
      },
      "text/plain": [
       "  0%|          | 0/2 [00:00<?, ?ba/s]"
      ]
     },
     "metadata": {},
     "output_type": "display_data"
    },
    {
     "data": {
      "application/vnd.jupyter.widget-view+json": {
       "model_id": "c1195b9b5df342dbabd412e3d9d91171",
       "version_major": 2,
       "version_minor": 0
      },
      "text/plain": [
       "  0%|          | 0/2 [00:00<?, ?ba/s]"
      ]
     },
     "metadata": {},
     "output_type": "display_data"
    }
   ],
   "source": [
    "encoded_dataset = dataset.map(preprocess_data, batched=True, remove_columns=dataset['train'].column_names)"
   ]
  },
  {
   "cell_type": "code",
   "execution_count": 9,
   "metadata": {
    "colab": {
     "base_uri": "https://localhost:8080/"
    },
    "id": "0enAb0W9o25W",
    "outputId": "55bc5ba6-d169-49c6-f562-bb7ea4143866"
   },
   "outputs": [
    {
     "name": "stdout",
     "output_type": "stream",
     "text": [
      "dict_keys(['input_ids', 'token_type_ids', 'attention_mask', 'labels'])\n"
     ]
    }
   ],
   "source": [
    "example = encoded_dataset['train'][0]\n",
    "print(example.keys())"
   ]
  },
  {
   "cell_type": "code",
   "execution_count": 10,
   "metadata": {
    "colab": {
     "base_uri": "https://localhost:8080/",
     "height": 137
    },
    "id": "D0McCtJ8HRJY",
    "outputId": "82fb0336-51a3-40ad-ebc0-65eeb7cf4b6c"
   },
   "outputs": [
    {
     "data": {
      "text/plain": [
       "'[CLS] we should ban human cloning [SEP] we should ban human cloning as it will only cause huge issues when you have a bunch of the same humans running around all acting the same. [SEP] [PAD] [PAD] [PAD] [PAD] [PAD] [PAD] [PAD] [PAD] [PAD] [PAD] [PAD] [PAD] [PAD] [PAD] [PAD] [PAD] [PAD] [PAD] [PAD] [PAD] [PAD] [PAD] [PAD] [PAD] [PAD] [PAD] [PAD] [PAD] [PAD] [PAD] [PAD] [PAD] [PAD] [PAD] [PAD] [PAD] [PAD] [PAD] [PAD] [PAD] [PAD] [PAD] [PAD] [PAD] [PAD] [PAD] [PAD] [PAD] [PAD] [PAD] [PAD] [PAD] [PAD] [PAD] [PAD] [PAD] [PAD] [PAD] [PAD] [PAD] [PAD] [PAD] [PAD] [PAD] [PAD] [PAD] [PAD] [PAD] [PAD] [PAD] [PAD] [PAD] [PAD] [PAD] [PAD] [PAD] [PAD] [PAD] [PAD] [PAD] [PAD] [PAD] [PAD] [PAD] [PAD] [PAD] [PAD] [PAD] [PAD] [PAD]'"
      ]
     },
     "execution_count": 10,
     "metadata": {},
     "output_type": "execute_result"
    }
   ],
   "source": [
    "tokenizer.decode(example['input_ids'])"
   ]
  },
  {
   "cell_type": "code",
   "execution_count": 11,
   "metadata": {
    "colab": {
     "base_uri": "https://localhost:8080/"
    },
    "id": "VdIvj6WjHeZQ",
    "outputId": "418c14d2-cca3-44e9-d0a2-6ad4ca7a007c",
    "scrolled": false
   },
   "outputs": [
    {
     "data": {
      "text/plain": [
       "[0.0,\n",
       " 0.0,\n",
       " 0.0,\n",
       " 0.0,\n",
       " 0.0,\n",
       " 0.0,\n",
       " 0.0,\n",
       " 0.0,\n",
       " 0.0,\n",
       " 1.0,\n",
       " 0.0,\n",
       " 0.0,\n",
       " 0.0,\n",
       " 0.0,\n",
       " 0.0,\n",
       " 0.0,\n",
       " 0.0,\n",
       " 0.0,\n",
       " 0.0,\n",
       " 0.0]"
      ]
     },
     "execution_count": 11,
     "metadata": {},
     "output_type": "execute_result"
    }
   ],
   "source": [
    "example['labels']"
   ]
  },
  {
   "cell_type": "code",
   "execution_count": 12,
   "metadata": {
    "colab": {
     "base_uri": "https://localhost:8080/"
    },
    "id": "q4Dx95t2o6N9",
    "outputId": "3ce6c923-0b45-4743-bc4b-7771d088b03e"
   },
   "outputs": [
    {
     "data": {
      "text/plain": [
       "['Security: societal']"
      ]
     },
     "execution_count": 12,
     "metadata": {},
     "output_type": "execute_result"
    }
   ],
   "source": [
    "[id2label[idx] for idx, label in enumerate(example['labels']) if label == 1.0]"
   ]
  },
  {
   "cell_type": "markdown",
   "metadata": {
    "id": "HgpKXDfvKBxn"
   },
   "source": [
    "Finally, we set the format of our data to PyTorch tensors. This will turn the training, validation and test sets into standard PyTorch [datasets](https://pytorch.org/docs/stable/data.html). "
   ]
  },
  {
   "cell_type": "code",
   "execution_count": 13,
   "metadata": {
    "id": "Lk6Cq9duKBkA"
   },
   "outputs": [],
   "source": [
    "encoded_dataset.set_format(\"torch\")"
   ]
  },
  {
   "cell_type": "markdown",
   "metadata": {
    "id": "w5qSmCgWefWs"
   },
   "source": [
    "## Define model\n",
    "\n",
    "Here we define a model that includes a pre-trained base (i.e. the weights from bert-base-uncased) are loaded, with a random initialized classification head (linear layer) on top. One should fine-tune this head, together with the pre-trained base on a labeled dataset.\n",
    "\n",
    "This is also printed by the warning.\n",
    "\n",
    "We set the `problem_type` to be \"multi_label_classification\", as this will make sure the appropriate loss function is used (namely [`BCEWithLogitsLoss`](https://pytorch.org/docs/stable/generated/torch.nn.BCEWithLogitsLoss.html)). We also make sure the output layer has `len(labels)` output neurons, and we set the id2label and label2id mappings."
   ]
  },
  {
   "cell_type": "code",
   "execution_count": 14,
   "metadata": {
    "colab": {
     "base_uri": "https://localhost:8080/"
    },
    "id": "6XPL1Z_RegBF",
    "outputId": "22994300-8c93-421e-faa4-678d6cc14aab",
    "scrolled": false
   },
   "outputs": [
    {
     "name": "stderr",
     "output_type": "stream",
     "text": [
      "Some weights of the model checkpoint at bert-base-uncased were not used when initializing BertForSequenceClassification: ['cls.predictions.transform.dense.bias', 'cls.predictions.decoder.weight', 'cls.predictions.transform.LayerNorm.bias', 'cls.predictions.bias', 'cls.predictions.transform.LayerNorm.weight', 'cls.seq_relationship.bias', 'cls.seq_relationship.weight', 'cls.predictions.transform.dense.weight']\n",
      "- This IS expected if you are initializing BertForSequenceClassification from the checkpoint of a model trained on another task or with another architecture (e.g. initializing a BertForSequenceClassification model from a BertForPreTraining model).\n",
      "- This IS NOT expected if you are initializing BertForSequenceClassification from the checkpoint of a model that you expect to be exactly identical (initializing a BertForSequenceClassification model from a BertForSequenceClassification model).\n",
      "Some weights of BertForSequenceClassification were not initialized from the model checkpoint at bert-base-uncased and are newly initialized: ['classifier.weight', 'classifier.bias']\n",
      "You should probably TRAIN this model on a down-stream task to be able to use it for predictions and inference.\n"
     ]
    }
   ],
   "source": [
    "from transformers import AutoModelForSequenceClassification\n",
    "\n",
    "def instantiate_model():\n",
    "    model = AutoModelForSequenceClassification.from_pretrained(\"bert-base-uncased\", \n",
    "                                                               problem_type=\"multi_label_classification\",\n",
    "                                                               output_hidden_states=False,\n",
    "                                                               num_labels=len(labels),\n",
    "                                                               id2label=id2label,\n",
    "                                                               label2id=label2id)\n",
    "    return model\n",
    "\n",
    "model = instantiate_model()\n",
    "\n",
    "#for name, param in model.named_parameters():\n",
    "#    print(name, param.requires_grad)"
   ]
  },
  {
   "cell_type": "markdown",
   "metadata": {
    "id": "mjJGEXShp7te"
   },
   "source": [
    "## Train the model!\n",
    "\n",
    "We are going to train the model using HuggingFace's Trainer API. This requires us to define 2 things: \n",
    "\n",
    "* `TrainingArguments`, which specify training hyperparameters. All options can be found in the [docs](https://huggingface.co/transformers/main_classes/trainer.html#trainingarguments). Below, we for example specify that we want to evaluate after every epoch of training, we would like to save the model every epoch, we set the learning rate, the batch size to use for training/evaluation, how many epochs to train for, and so on.\n",
    "* a `Trainer` object (docs can be found [here](https://huggingface.co/transformers/main_classes/trainer.html#id1))."
   ]
  },
  {
   "cell_type": "code",
   "execution_count": 15,
   "metadata": {
    "id": "K5a8_vIKqr7P"
   },
   "outputs": [],
   "source": [
    "batch_size = 8\n",
    "metric_name = \"f1_m\"\n",
    "num_train_epochs = 15\n",
    "freeze_layers_bert = False"
   ]
  },
  {
   "cell_type": "code",
   "execution_count": 16,
   "metadata": {
    "id": "dR2GmpvDqbuZ"
   },
   "outputs": [],
   "source": [
    "from transformers import TrainingArguments, Trainer\n",
    "\n",
    "args = TrainingArguments(\n",
    "    f\"bert-finetuned-sem_eval-english\",\n",
    "    evaluation_strategy = \"epoch\",\n",
    "    save_strategy = \"epoch\",\n",
    "    learning_rate=2e-5,\n",
    "    per_device_train_batch_size=batch_size,\n",
    "    per_device_eval_batch_size=batch_size,\n",
    "    num_train_epochs=num_train_epochs,\n",
    "    weight_decay=0.01,\n",
    "    load_best_model_at_end=True,\n",
    "    metric_for_best_model=metric_name,\n",
    "    #push_to_hub=True,\n",
    ")"
   ]
  },
  {
   "cell_type": "markdown",
   "metadata": {
    "id": "1_v2fPFFJ3-v"
   },
   "source": [
    "We are also going to compute metrics while training. For this, we need to define a `compute_metrics` function, that returns a dictionary with the desired metric values."
   ]
  },
  {
   "cell_type": "code",
   "execution_count": 17,
   "metadata": {
    "id": "797b2WHJqUgZ"
   },
   "outputs": [],
   "source": [
    "from sklearn.metrics import f1_score, roc_auc_score, accuracy_score, precision_score, recall_score\n",
    "from sklearn.metrics import multilabel_confusion_matrix\n",
    "from transformers import EvalPrediction\n",
    "import torch\n",
    "import os\n",
    "import csv\n",
    "\n",
    "save_eval_result_df = None\n",
    "def save_eval_results(predictions, labels=labels, evaluationResultsDir=\"evaluationResults\", evaluationResultsFilename=\"run.tsv\"):\n",
    "    if (save_eval_result_df is None):\n",
    "        return\n",
    "    # make sure the shapes match...\n",
    "    if len(save_eval_result_df.index) != len(predictions):\n",
    "        raise Exception(\"Dataframe number of rows differs from number of predictions\") \n",
    "    if not os.path.exists(evaluationResultsDir):\n",
    "        os.makedirs(evaluationResultsDir)\n",
    "    with open(os.path.join(evaluationResultsDir, evaluationResultsFilename), \"w\") as runFile:\n",
    "        writer = csv.DictWriter(runFile, fieldnames = [\"Argument ID\"] + labels, delimiter = \"\\t\")\n",
    "        writer.writeheader()\n",
    "        for index, row in save_eval_result_df.iterrows():\n",
    "            r = { \"Argument ID\": row[0] }\n",
    "            i = 0\n",
    "            for lbl in labels:\n",
    "                r[lbl] = int(predictions[index][i])\n",
    "                i += 1\n",
    "            writer.writerow(r)\n",
    "    \n",
    "    \n",
    "# source: https://jesusleal.io/2021/04/21/Longformer-multilabel-classification/\n",
    "def multi_label_metrics(predictions, true_labels, threshold=0.5):\n",
    "    # first, apply sigmoid on predictions which are of shape (batch_size, num_labels)\n",
    "    sigmoid = torch.nn.Sigmoid()\n",
    "    probs = sigmoid(torch.Tensor(predictions))\n",
    "    # next, use threshold to turn them into integer predictions\n",
    "    y_pred = np.zeros(probs.shape)\n",
    "    y_pred[np.where(probs >= threshold)] = 1\n",
    "    # Save results...\n",
    "    save_eval_results(y_pred)\n",
    "    # finally, compute metrics\n",
    "    y_true = true_labels\n",
    "    precision_micro_average = precision_score(y_true=y_true, y_pred=y_pred, average='micro')\n",
    "    recall_micro_average = recall_score(y_true=y_true, y_pred=y_pred, average='micro')\n",
    "    f1_micro_average = f1_score(y_true=y_true, y_pred=y_pred, average='micro')\n",
    "    precision_macro_average = precision_score(y_true=y_true, y_pred=y_pred, average='macro')\n",
    "    recall_macro_average = recall_score(y_true=y_true, y_pred=y_pred, average='macro')\n",
    "    f1_macro_average = f1_score(y_true=y_true, y_pred=y_pred, average='macro')\n",
    "    roc_auc = roc_auc_score(y_true, y_pred, average = 'micro')\n",
    "    accuracy = accuracy_score(y_true, y_pred)\n",
    "    mcm = multilabel_confusion_matrix(y_true=y_true, y_pred=y_pred, labels=np.arange(len(labels)))\n",
    "    # return as dictionary\n",
    "    metrics = {'p': precision_micro_average,\n",
    "               'r': recall_micro_average,\n",
    "               'f1': f1_micro_average,\n",
    "               'p_m': precision_macro_average,\n",
    "               'r_m': recall_macro_average,\n",
    "               'f1_m': f1_macro_average,\n",
    "               'roc_auc': roc_auc,\n",
    "               'accuracy': accuracy,\n",
    "               'mcm': mcm.tolist()\n",
    "              }\n",
    "    return metrics\n",
    "\n",
    "def compute_metrics(p: EvalPrediction):\n",
    "    preds = p.predictions[0] if isinstance(p.predictions, \n",
    "            tuple) else p.predictions\n",
    "    result = multi_label_metrics(\n",
    "        predictions=preds, \n",
    "        true_labels=p.label_ids)\n",
    "    return result"
   ]
  },
  {
   "cell_type": "markdown",
   "metadata": {
    "id": "fxNo4_TsvzDm"
   },
   "source": [
    "Let's verify a batch as well as a forward pass:"
   ]
  },
  {
   "cell_type": "code",
   "execution_count": 18,
   "metadata": {
    "colab": {
     "base_uri": "https://localhost:8080/",
     "height": 35
    },
    "id": "IlOgGiojuWwG",
    "outputId": "cd0b2c99-b520-468d-8ffc-c36211b7820a"
   },
   "outputs": [
    {
     "data": {
      "text/plain": [
       "'torch.FloatTensor'"
      ]
     },
     "execution_count": 18,
     "metadata": {},
     "output_type": "execute_result"
    }
   ],
   "source": [
    "encoded_dataset['train'][0]['labels'].type()"
   ]
  },
  {
   "cell_type": "code",
   "execution_count": 19,
   "metadata": {
    "colab": {
     "base_uri": "https://localhost:8080/"
    },
    "id": "Y41Kre_jvD7x",
    "outputId": "b6ca888b-6371-40fb-ab83-3dc24d28320a"
   },
   "outputs": [
    {
     "data": {
      "text/plain": [
       "tensor([  101,  2057,  2323,  7221,  2529, 18856, 13369,   102,  2057,  2323,\n",
       "         7221,  2529, 18856, 13369,  2004,  2009,  2097,  2069,  3426,  4121,\n",
       "         3314,  2043,  2017,  2031,  1037,  9129,  1997,  1996,  2168,  4286,\n",
       "         2770,  2105,  2035,  3772,  1996,  2168,  1012,   102,     0,     0,\n",
       "            0,     0,     0,     0,     0,     0,     0,     0,     0,     0,\n",
       "            0,     0,     0,     0,     0,     0,     0,     0,     0,     0,\n",
       "            0,     0,     0,     0,     0,     0,     0,     0,     0,     0,\n",
       "            0,     0,     0,     0,     0,     0,     0,     0,     0,     0,\n",
       "            0,     0,     0,     0,     0,     0,     0,     0,     0,     0,\n",
       "            0,     0,     0,     0,     0,     0,     0,     0,     0,     0,\n",
       "            0,     0,     0,     0,     0,     0,     0,     0,     0,     0,\n",
       "            0,     0,     0,     0,     0,     0,     0,     0,     0,     0,\n",
       "            0,     0,     0,     0,     0,     0,     0,     0])"
      ]
     },
     "execution_count": 19,
     "metadata": {},
     "output_type": "execute_result"
    }
   ],
   "source": [
    "encoded_dataset['train']['input_ids'][0]"
   ]
  },
  {
   "cell_type": "code",
   "execution_count": 20,
   "metadata": {
    "colab": {
     "base_uri": "https://localhost:8080/"
    },
    "id": "sxWcnZ8ku12V",
    "outputId": "26522911-c3cd-466a-ae2d-d81d23003c23"
   },
   "outputs": [
    {
     "data": {
      "text/plain": [
       "SequenceClassifierOutput(loss=tensor(0.6864, grad_fn=<BinaryCrossEntropyWithLogitsBackward0>), logits=tensor([[-0.0489, -0.4447,  0.5347,  0.1085, -0.1382,  0.0691, -0.0238, -0.4892,\n",
       "         -0.4905,  0.0597, -0.2362, -0.8063,  0.0960,  0.1316,  0.1972,  0.0164,\n",
       "         -0.1664,  0.2019,  0.9102, -0.3094]], grad_fn=<AddmmBackward0>), hidden_states=None, attentions=None)"
      ]
     },
     "execution_count": 20,
     "metadata": {},
     "output_type": "execute_result"
    }
   ],
   "source": [
    "#forward pass\n",
    "outputs = model(input_ids=encoded_dataset['train']['input_ids'][0].unsqueeze(0), labels=encoded_dataset['train'][0]['labels'].unsqueeze(0))\n",
    "outputs"
   ]
  },
  {
   "cell_type": "markdown",
   "metadata": {
    "id": "f-X2brZcv0X6"
   },
   "source": [
    "Let's start training!"
   ]
  },
  {
   "cell_type": "code",
   "execution_count": 21,
   "metadata": {
    "id": "chq_3nUz73ib",
    "scrolled": false
   },
   "outputs": [
    {
     "name": "stderr",
     "output_type": "stream",
     "text": [
      "Some weights of the model checkpoint at bert-base-uncased were not used when initializing BertForSequenceClassification: ['cls.predictions.transform.dense.bias', 'cls.predictions.decoder.weight', 'cls.predictions.transform.LayerNorm.bias', 'cls.predictions.bias', 'cls.predictions.transform.LayerNorm.weight', 'cls.seq_relationship.bias', 'cls.seq_relationship.weight', 'cls.predictions.transform.dense.weight']\n",
      "- This IS expected if you are initializing BertForSequenceClassification from the checkpoint of a model trained on another task or with another architecture (e.g. initializing a BertForSequenceClassification model from a BertForPreTraining model).\n",
      "- This IS NOT expected if you are initializing BertForSequenceClassification from the checkpoint of a model that you expect to be exactly identical (initializing a BertForSequenceClassification model from a BertForSequenceClassification model).\n",
      "Some weights of BertForSequenceClassification were not initialized from the model checkpoint at bert-base-uncased and are newly initialized: ['classifier.weight', 'classifier.bias']\n",
      "You should probably TRAIN this model on a down-stream task to be able to use it for predictions and inference.\n",
      "/home/petasis/.local/lib/python3.11/site-packages/transformers/optimization.py:306: FutureWarning: This implementation of AdamW is deprecated and will be removed in a future version. Use the PyTorch implementation torch.optim.AdamW instead, or set `no_deprecation_warning=True` to disable this warning\n",
      "  warnings.warn(\n",
      "***** Running training *****\n",
      "  Num examples = 5393\n",
      "  Num Epochs = 15\n",
      "  Instantaneous batch size per device = 8\n",
      "  Total train batch size (w. parallel, distributed & accumulation) = 8\n",
      "  Gradient Accumulation steps = 1\n",
      "  Total optimization steps = 10125\n",
      "  Number of trainable parameters = 109497620\n",
      "You're using a BertTokenizerFast tokenizer. Please note that with a fast tokenizer, using the `__call__` method is faster than using a method to encode the text followed by a call to the `pad` method to get a padded encoding.\n"
     ]
    },
    {
     "data": {
      "text/html": [
       "\n",
       "    <div>\n",
       "      \n",
       "      <progress value='10125' max='10125' style='width:300px; height:20px; vertical-align: middle;'></progress>\n",
       "      [10125/10125 57:29, Epoch 15/15]\n",
       "    </div>\n",
       "    <table border=\"1\" class=\"dataframe\">\n",
       "  <thead>\n",
       " <tr style=\"text-align: left;\">\n",
       "      <th>Epoch</th>\n",
       "      <th>Training Loss</th>\n",
       "      <th>Validation Loss</th>\n",
       "      <th>P</th>\n",
       "      <th>R</th>\n",
       "      <th>F1</th>\n",
       "      <th>P M</th>\n",
       "      <th>R M</th>\n",
       "      <th>F1 M</th>\n",
       "      <th>Roc Auc</th>\n",
       "      <th>Accuracy</th>\n",
       "      <th>Mcm</th>\n",
       "    </tr>\n",
       "  </thead>\n",
       "  <tbody>\n",
       "    <tr>\n",
       "      <td>1</td>\n",
       "      <td>0.408000</td>\n",
       "      <td>0.353494</td>\n",
       "      <td>0.703076</td>\n",
       "      <td>0.247995</td>\n",
       "      <td>0.366659</td>\n",
       "      <td>0.381817</td>\n",
       "      <td>0.149501</td>\n",
       "      <td>0.178751</td>\n",
       "      <td>0.613446</td>\n",
       "      <td>0.046414</td>\n",
       "      <td>[[[1620, 25], [204, 47]], [[1381, 19], [449, 47]], [[1758, 0], [138, 0]], [[1793, 0], [103, 0]], [[1147, 174], [248, 327]], [[1732, 0], [164, 0]], [[1764, 0], [127, 5]], [[1766, 0], [130, 0]], [[946, 191], [238, 521]], [[1254, 154], [191, 297]], [[1724, 0], [172, 0]], [[1436, 5], [447, 8]], [[1836, 0], [60, 0]], [[1769, 0], [127, 0]], [[1263, 0], [633, 0]], [[1628, 0], [268, 0]], [[1119, 90], [412, 275]], [[1761, 8], [78, 49]], [[1673, 0], [223, 0]], [[1525, 0], [370, 1]]]</td>\n",
       "    </tr>\n",
       "    <tr>\n",
       "      <td>2</td>\n",
       "      <td>0.339400</td>\n",
       "      <td>0.335567</td>\n",
       "      <td>0.721086</td>\n",
       "      <td>0.338261</td>\n",
       "      <td>0.460501</td>\n",
       "      <td>0.477327</td>\n",
       "      <td>0.212483</td>\n",
       "      <td>0.263613</td>\n",
       "      <td>0.655950</td>\n",
       "      <td>0.085443</td>\n",
       "      <td>[[[1636, 9], [209, 42]], [[1349, 51], [366, 130]], [[1758, 0], [138, 0]], [[1793, 0], [103, 0]], [[1247, 74], [295, 280]], [[1731, 1], [159, 5]], [[1744, 20], [105, 27]], [[1766, 0], [130, 0]], [[881, 256], [159, 600]], [[1316, 92], [218, 270]], [[1723, 1], [145, 27]], [[1413, 28], [388, 67]], [[1836, 0], [60, 0]], [[1769, 0], [127, 0]], [[1194, 69], [426, 207]], [[1628, 0], [268, 0]], [[1009, 200], [264, 423]], [[1752, 17], [67, 60]], [[1673, 0], [223, 0]], [[1511, 14], [358, 13]]]</td>\n",
       "    </tr>\n",
       "    <tr>\n",
       "      <td>3</td>\n",
       "      <td>0.282400</td>\n",
       "      <td>0.330805</td>\n",
       "      <td>0.705831</td>\n",
       "      <td>0.378833</td>\n",
       "      <td>0.493041</td>\n",
       "      <td>0.541753</td>\n",
       "      <td>0.260898</td>\n",
       "      <td>0.322131</td>\n",
       "      <td>0.673511</td>\n",
       "      <td>0.093354</td>\n",
       "      <td>[[[1610, 35], [167, 84]], [[1294, 106], [308, 188]], [[1751, 7], [127, 11]], [[1789, 4], [89, 14]], [[1254, 67], [325, 250]], [[1729, 3], [156, 8]], [[1745, 19], [100, 32]], [[1766, 0], [130, 0]], [[904, 233], [167, 592]], [[1301, 107], [204, 284]], [[1707, 17], [131, 41]], [[1358, 83], [311, 144]], [[1836, 0], [60, 0]], [[1768, 1], [127, 0]], [[1193, 70], [418, 215]], [[1628, 0], [268, 0]], [[1003, 206], [247, 440]], [[1750, 19], [55, 72]], [[1665, 8], [219, 4]], [[1506, 19], [341, 30]]]</td>\n",
       "    </tr>\n",
       "    <tr>\n",
       "      <td>4</td>\n",
       "      <td>0.251000</td>\n",
       "      <td>0.338875</td>\n",
       "      <td>0.648193</td>\n",
       "      <td>0.423022</td>\n",
       "      <td>0.511942</td>\n",
       "      <td>0.550018</td>\n",
       "      <td>0.298097</td>\n",
       "      <td>0.351095</td>\n",
       "      <td>0.688381</td>\n",
       "      <td>0.076477</td>\n",
       "      <td>[[[1578, 67], [153, 98]], [[1306, 94], [324, 172]], [[1751, 7], [126, 12]], [[1784, 9], [85, 18]], [[1151, 170], [225, 350]], [[1727, 5], [151, 13]], [[1723, 41], [84, 48]], [[1766, 0], [130, 0]], [[823, 314], [123, 636]], [[1235, 173], [176, 312]], [[1713, 11], [133, 39]], [[1339, 102], [296, 159]], [[1834, 2], [58, 2]], [[1768, 1], [127, 0]], [[1048, 215], [310, 323]], [[1616, 12], [262, 6]], [[1097, 112], [349, 338]], [[1751, 18], [61, 66]], [[1657, 16], [214, 9]], [[1434, 91], [282, 89]]]</td>\n",
       "    </tr>\n",
       "    <tr>\n",
       "      <td>5</td>\n",
       "      <td>0.231500</td>\n",
       "      <td>0.345060</td>\n",
       "      <td>0.626431</td>\n",
       "      <td>0.456204</td>\n",
       "      <td>0.527934</td>\n",
       "      <td>0.514771</td>\n",
       "      <td>0.328047</td>\n",
       "      <td>0.371623</td>\n",
       "      <td>0.700695</td>\n",
       "      <td>0.079114</td>\n",
       "      <td>[[[1575, 70], [145, 106]], [[1265, 135], [279, 217]], [[1742, 16], [117, 21]], [[1778, 15], [81, 22]], [[1142, 179], [217, 358]], [[1720, 12], [151, 13]], [[1685, 79], [66, 66]], [[1765, 1], [130, 0]], [[903, 234], [172, 587]], [[1258, 150], [187, 301]], [[1708, 16], [133, 39]], [[1303, 138], [270, 185]], [[1833, 3], [57, 3]], [[1767, 2], [127, 0]], [[1071, 192], [311, 322]], [[1606, 22], [259, 9]], [[881, 328], [209, 478]], [[1752, 17], [63, 64]], [[1644, 29], [211, 12]], [[1433, 92], [273, 98]]]</td>\n",
       "    </tr>\n",
       "    <tr>\n",
       "      <td>6</td>\n",
       "      <td>0.188700</td>\n",
       "      <td>0.358475</td>\n",
       "      <td>0.611386</td>\n",
       "      <td>0.466111</td>\n",
       "      <td>0.528955</td>\n",
       "      <td>0.513145</td>\n",
       "      <td>0.339328</td>\n",
       "      <td>0.377140</td>\n",
       "      <td>0.703209</td>\n",
       "      <td>0.075422</td>\n",
       "      <td>[[[1555, 90], [135, 116]], [[1289, 111], [298, 198]], [[1750, 8], [123, 15]], [[1782, 11], [87, 16]], [[1104, 217], [199, 376]], [[1701, 31], [142, 22]], [[1685, 79], [65, 67]], [[1766, 0], [130, 0]], [[918, 219], [194, 565]], [[1150, 258], [146, 342]], [[1702, 22], [129, 43]], [[1328, 113], [295, 160]], [[1834, 2], [58, 2]], [[1766, 3], [127, 0]], [[994, 269], [264, 369]], [[1582, 46], [245, 23]], [[1020, 189], [279, 408]], [[1752, 17], [61, 66]], [[1649, 24], [207, 16]], [[1350, 175], [211, 160]]]</td>\n",
       "    </tr>\n",
       "    <tr>\n",
       "      <td>7</td>\n",
       "      <td>0.168500</td>\n",
       "      <td>0.366833</td>\n",
       "      <td>0.618174</td>\n",
       "      <td>0.461079</td>\n",
       "      <td>0.528193</td>\n",
       "      <td>0.553867</td>\n",
       "      <td>0.343725</td>\n",
       "      <td>0.391041</td>\n",
       "      <td>0.701849</td>\n",
       "      <td>0.072257</td>\n",
       "      <td>[[[1581, 64], [143, 108]], [[1235, 165], [261, 235]], [[1747, 11], [118, 20]], [[1779, 14], [81, 22]], [[1182, 139], [253, 322]], [[1698, 34], [137, 27]], [[1684, 80], [59, 73]], [[1765, 1], [127, 3]], [[834, 303], [144, 615]], [[1195, 213], [160, 328]], [[1702, 22], [126, 46]], [[1321, 120], [295, 160]], [[1831, 5], [56, 4]], [[1764, 5], [127, 0]], [[1066, 197], [304, 329]], [[1586, 42], [244, 24]], [[1003, 206], [280, 407]], [[1749, 20], [63, 64]], [[1628, 45], [197, 26]], [[1400, 125], [252, 119]]]</td>\n",
       "    </tr>\n",
       "    <tr>\n",
       "      <td>8</td>\n",
       "      <td>0.156800</td>\n",
       "      <td>0.377108</td>\n",
       "      <td>0.612034</td>\n",
       "      <td>0.475075</td>\n",
       "      <td>0.534927</td>\n",
       "      <td>0.506810</td>\n",
       "      <td>0.353900</td>\n",
       "      <td>0.393582</td>\n",
       "      <td>0.707199</td>\n",
       "      <td>0.069093</td>\n",
       "      <td>[[[1552, 93], [131, 120]], [[1208, 192], [249, 247]], [[1746, 12], [117, 21]], [[1773, 20], [77, 26]], [[1165, 156], [232, 343]], [[1706, 26], [141, 23]], [[1673, 91], [58, 74]], [[1764, 2], [130, 0]], [[883, 254], [159, 600]], [[1260, 148], [191, 297]], [[1695, 29], [125, 47]], [[1322, 119], [290, 165]], [[1831, 5], [55, 5]], [[1763, 6], [127, 0]], [[973, 290], [246, 387]], [[1573, 55], [248, 20]], [[991, 218], [265, 422]], [[1749, 20], [61, 66]], [[1641, 32], [203, 20]], [[1378, 147], [233, 138]]]</td>\n",
       "    </tr>\n",
       "    <tr>\n",
       "      <td>9</td>\n",
       "      <td>0.130100</td>\n",
       "      <td>0.388472</td>\n",
       "      <td>0.611180</td>\n",
       "      <td>0.462494</td>\n",
       "      <td>0.526542</td>\n",
       "      <td>0.534978</td>\n",
       "      <td>0.347502</td>\n",
       "      <td>0.393189</td>\n",
       "      <td>0.701606</td>\n",
       "      <td>0.066456</td>\n",
       "      <td>[[[1565, 80], [136, 115]], [[1210, 190], [252, 244]], [[1747, 11], [118, 20]], [[1780, 13], [80, 23]], [[1116, 205], [214, 361]], [[1701, 31], [143, 21]], [[1680, 84], [63, 69]], [[1763, 3], [127, 3]], [[933, 204], [209, 550]], [[1246, 162], [191, 297]], [[1696, 28], [125, 47]], [[1323, 118], [307, 148]], [[1830, 6], [55, 5]], [[1763, 6], [127, 0]], [[1007, 256], [266, 367]], [[1568, 60], [238, 30]], [[995, 214], [284, 403]], [[1749, 20], [59, 68]], [[1638, 35], [199, 24]], [[1380, 145], [225, 146]]]</td>\n",
       "    </tr>\n",
       "    <tr>\n",
       "      <td>10</td>\n",
       "      <td>0.122300</td>\n",
       "      <td>0.395640</td>\n",
       "      <td>0.603978</td>\n",
       "      <td>0.472716</td>\n",
       "      <td>0.530346</td>\n",
       "      <td>0.516052</td>\n",
       "      <td>0.354957</td>\n",
       "      <td>0.397818</td>\n",
       "      <td>0.705133</td>\n",
       "      <td>0.063291</td>\n",
       "      <td>[[[1556, 89], [134, 117]], [[1230, 170], [266, 230]], [[1748, 10], [120, 18]], [[1779, 14], [80, 23]], [[1135, 186], [216, 359]], [[1701, 31], [141, 23]], [[1680, 84], [63, 69]], [[1760, 6], [127, 3]], [[915, 222], [191, 568]], [[1250, 158], [192, 296]], [[1693, 31], [123, 49]], [[1293, 148], [265, 190]], [[1826, 10], [55, 5]], [[1762, 7], [127, 0]], [[955, 308], [243, 390]], [[1539, 89], [224, 44]], [[1014, 195], [298, 389]], [[1751, 18], [60, 67]], [[1624, 49], [199, 24]], [[1379, 146], [229, 142]]]</td>\n",
       "    </tr>\n",
       "    <tr>\n",
       "      <td>11</td>\n",
       "      <td>0.110900</td>\n",
       "      <td>0.404142</td>\n",
       "      <td>0.601320</td>\n",
       "      <td>0.472716</td>\n",
       "      <td>0.529319</td>\n",
       "      <td>0.526446</td>\n",
       "      <td>0.354470</td>\n",
       "      <td>0.397358</td>\n",
       "      <td>0.704784</td>\n",
       "      <td>0.062764</td>\n",
       "      <td>[[[1564, 81], [140, 111]], [[1204, 196], [251, 245]], [[1749, 9], [121, 17]], [[1779, 14], [81, 22]], [[1156, 165], [229, 346]], [[1693, 39], [137, 27]], [[1683, 81], [62, 70]], [[1761, 5], [128, 2]], [[919, 218], [197, 562]], [[1231, 177], [191, 297]], [[1690, 34], [120, 52]], [[1314, 127], [291, 164]], [[1831, 5], [55, 5]], [[1762, 7], [126, 1]], [[970, 293], [254, 379]], [[1538, 90], [228, 40]], [[980, 229], [258, 429]], [[1751, 18], [61, 66]], [[1627, 46], [196, 27]], [[1366, 159], [227, 144]]]</td>\n",
       "    </tr>\n",
       "    <tr>\n",
       "      <td>12</td>\n",
       "      <td>0.098500</td>\n",
       "      <td>0.410124</td>\n",
       "      <td>0.621028</td>\n",
       "      <td>0.457934</td>\n",
       "      <td>0.527154</td>\n",
       "      <td>0.548445</td>\n",
       "      <td>0.338928</td>\n",
       "      <td>0.388452</td>\n",
       "      <td>0.700815</td>\n",
       "      <td>0.071203</td>\n",
       "      <td>[[[1549, 96], [135, 116]], [[1231, 169], [261, 235]], [[1749, 9], [120, 18]], [[1783, 10], [83, 20]], [[1144, 177], [219, 356]], [[1704, 28], [143, 21]], [[1701, 63], [70, 62]], [[1762, 4], [128, 2]], [[923, 214], [194, 565]], [[1247, 161], [191, 297]], [[1696, 28], [126, 46]], [[1337, 104], [312, 143]], [[1834, 2], [56, 4]], [[1766, 3], [127, 0]], [[995, 268], [255, 378]], [[1585, 43], [238, 30]], [[1001, 208], [293, 394]], [[1751, 18], [60, 67]], [[1633, 40], [196, 27]], [[1393, 132], [240, 131]]]</td>\n",
       "    </tr>\n",
       "    <tr>\n",
       "      <td>13</td>\n",
       "      <td>0.094000</td>\n",
       "      <td>0.413745</td>\n",
       "      <td>0.613894</td>\n",
       "      <td>0.468313</td>\n",
       "      <td>0.531311</td>\n",
       "      <td>0.529121</td>\n",
       "      <td>0.345113</td>\n",
       "      <td>0.391842</td>\n",
       "      <td>0.704484</td>\n",
       "      <td>0.069093</td>\n",
       "      <td>[[[1559, 86], [135, 116]], [[1239, 161], [259, 237]], [[1749, 9], [121, 17]], [[1779, 14], [83, 20]], [[1140, 181], [219, 356]], [[1703, 29], [142, 22]], [[1691, 73], [68, 64]], [[1760, 6], [127, 3]], [[910, 227], [181, 578]], [[1251, 157], [193, 295]], [[1701, 23], [129, 43]], [[1306, 135], [280, 175]], [[1829, 7], [56, 4]], [[1761, 8], [126, 1]], [[1010, 253], [266, 367]], [[1553, 75], [232, 36]], [[989, 220], [275, 412]], [[1752, 17], [65, 62]], [[1626, 47], [196, 27]], [[1380, 145], [228, 143]]]</td>\n",
       "    </tr>\n",
       "    <tr>\n",
       "      <td>14</td>\n",
       "      <td>0.089300</td>\n",
       "      <td>0.417894</td>\n",
       "      <td>0.606581</td>\n",
       "      <td>0.466740</td>\n",
       "      <td>0.527551</td>\n",
       "      <td>0.532481</td>\n",
       "      <td>0.346606</td>\n",
       "      <td>0.391854</td>\n",
       "      <td>0.702874</td>\n",
       "      <td>0.065401</td>\n",
       "      <td>[[[1557, 88], [136, 115]], [[1231, 169], [259, 237]], [[1749, 9], [121, 17]], [[1781, 12], [83, 20]], [[1148, 173], [224, 351]], [[1694, 38], [137, 27]], [[1687, 77], [66, 66]], [[1762, 4], [127, 3]], [[927, 210], [200, 559]], [[1227, 181], [183, 305]], [[1700, 24], [125, 47]], [[1314, 127], [297, 158]], [[1832, 4], [56, 4]], [[1762, 7], [127, 0]], [[983, 280], [258, 375]], [[1550, 78], [232, 36]], [[985, 224], [275, 412]], [[1752, 17], [65, 62]], [[1627, 46], [196, 27]], [[1368, 157], [224, 147]]]</td>\n",
       "    </tr>\n",
       "    <tr>\n",
       "      <td>15</td>\n",
       "      <td>0.083800</td>\n",
       "      <td>0.418052</td>\n",
       "      <td>0.612596</td>\n",
       "      <td>0.465010</td>\n",
       "      <td>0.528697</td>\n",
       "      <td>0.533041</td>\n",
       "      <td>0.345731</td>\n",
       "      <td>0.393100</td>\n",
       "      <td>0.702880</td>\n",
       "      <td>0.065401</td>\n",
       "      <td>[[[1562, 83], [137, 114]], [[1234, 166], [259, 237]], [[1748, 10], [121, 17]], [[1779, 14], [82, 21]], [[1145, 176], [223, 352]], [[1699, 33], [139, 25]], [[1690, 74], [67, 65]], [[1762, 4], [126, 4]], [[934, 203], [204, 555]], [[1237, 171], [186, 302]], [[1699, 25], [125, 47]], [[1309, 132], [283, 172]], [[1830, 6], [56, 4]], [[1762, 7], [127, 0]], [[990, 273], [259, 374]], [[1553, 75], [234, 34]], [[998, 211], [284, 403]], [[1752, 17], [64, 63]], [[1632, 41], [197, 26]], [[1376, 149], [229, 142]]]</td>\n",
       "    </tr>\n",
       "  </tbody>\n",
       "</table><p>"
      ],
      "text/plain": [
       "<IPython.core.display.HTML object>"
      ]
     },
     "metadata": {},
     "output_type": "display_data"
    },
    {
     "name": "stderr",
     "output_type": "stream",
     "text": [
      "***** Running Evaluation *****\n",
      "  Num examples = 1896\n",
      "  Batch size = 8\n",
      "/usr/lib64/python3.11/site-packages/sklearn/metrics/_classification.py:1334: UndefinedMetricWarning: Precision is ill-defined and being set to 0.0 in labels with no predicted samples. Use `zero_division` parameter to control this behavior.\n",
      "  _warn_prf(average, modifier, msg_start, len(result))\n",
      "Saving model checkpoint to bert-finetuned-sem_eval-english/checkpoint-675\n",
      "Configuration saved in bert-finetuned-sem_eval-english/checkpoint-675/config.json\n",
      "Model weights saved in bert-finetuned-sem_eval-english/checkpoint-675/pytorch_model.bin\n",
      "tokenizer config file saved in bert-finetuned-sem_eval-english/checkpoint-675/tokenizer_config.json\n",
      "Special tokens file saved in bert-finetuned-sem_eval-english/checkpoint-675/special_tokens_map.json\n",
      "***** Running Evaluation *****\n",
      "  Num examples = 1896\n",
      "  Batch size = 8\n",
      "/usr/lib64/python3.11/site-packages/sklearn/metrics/_classification.py:1334: UndefinedMetricWarning: Precision is ill-defined and being set to 0.0 in labels with no predicted samples. Use `zero_division` parameter to control this behavior.\n",
      "  _warn_prf(average, modifier, msg_start, len(result))\n",
      "Saving model checkpoint to bert-finetuned-sem_eval-english/checkpoint-1350\n",
      "Configuration saved in bert-finetuned-sem_eval-english/checkpoint-1350/config.json\n",
      "Model weights saved in bert-finetuned-sem_eval-english/checkpoint-1350/pytorch_model.bin\n",
      "tokenizer config file saved in bert-finetuned-sem_eval-english/checkpoint-1350/tokenizer_config.json\n",
      "Special tokens file saved in bert-finetuned-sem_eval-english/checkpoint-1350/special_tokens_map.json\n",
      "***** Running Evaluation *****\n",
      "  Num examples = 1896\n",
      "  Batch size = 8\n",
      "/usr/lib64/python3.11/site-packages/sklearn/metrics/_classification.py:1334: UndefinedMetricWarning: Precision is ill-defined and being set to 0.0 in labels with no predicted samples. Use `zero_division` parameter to control this behavior.\n",
      "  _warn_prf(average, modifier, msg_start, len(result))\n",
      "Saving model checkpoint to bert-finetuned-sem_eval-english/checkpoint-2025\n",
      "Configuration saved in bert-finetuned-sem_eval-english/checkpoint-2025/config.json\n",
      "Model weights saved in bert-finetuned-sem_eval-english/checkpoint-2025/pytorch_model.bin\n",
      "tokenizer config file saved in bert-finetuned-sem_eval-english/checkpoint-2025/tokenizer_config.json\n",
      "Special tokens file saved in bert-finetuned-sem_eval-english/checkpoint-2025/special_tokens_map.json\n",
      "***** Running Evaluation *****\n",
      "  Num examples = 1896\n",
      "  Batch size = 8\n",
      "/usr/lib64/python3.11/site-packages/sklearn/metrics/_classification.py:1334: UndefinedMetricWarning: Precision is ill-defined and being set to 0.0 in labels with no predicted samples. Use `zero_division` parameter to control this behavior.\n",
      "  _warn_prf(average, modifier, msg_start, len(result))\n",
      "Saving model checkpoint to bert-finetuned-sem_eval-english/checkpoint-2700\n",
      "Configuration saved in bert-finetuned-sem_eval-english/checkpoint-2700/config.json\n",
      "Model weights saved in bert-finetuned-sem_eval-english/checkpoint-2700/pytorch_model.bin\n",
      "tokenizer config file saved in bert-finetuned-sem_eval-english/checkpoint-2700/tokenizer_config.json\n",
      "Special tokens file saved in bert-finetuned-sem_eval-english/checkpoint-2700/special_tokens_map.json\n",
      "***** Running Evaluation *****\n",
      "  Num examples = 1896\n",
      "  Batch size = 8\n",
      "Saving model checkpoint to bert-finetuned-sem_eval-english/checkpoint-3375\n",
      "Configuration saved in bert-finetuned-sem_eval-english/checkpoint-3375/config.json\n",
      "Model weights saved in bert-finetuned-sem_eval-english/checkpoint-3375/pytorch_model.bin\n",
      "tokenizer config file saved in bert-finetuned-sem_eval-english/checkpoint-3375/tokenizer_config.json\n",
      "Special tokens file saved in bert-finetuned-sem_eval-english/checkpoint-3375/special_tokens_map.json\n",
      "***** Running Evaluation *****\n",
      "  Num examples = 1896\n",
      "  Batch size = 8\n",
      "/usr/lib64/python3.11/site-packages/sklearn/metrics/_classification.py:1334: UndefinedMetricWarning: Precision is ill-defined and being set to 0.0 in labels with no predicted samples. Use `zero_division` parameter to control this behavior.\n",
      "  _warn_prf(average, modifier, msg_start, len(result))\n",
      "Saving model checkpoint to bert-finetuned-sem_eval-english/checkpoint-4050\n",
      "Configuration saved in bert-finetuned-sem_eval-english/checkpoint-4050/config.json\n",
      "Model weights saved in bert-finetuned-sem_eval-english/checkpoint-4050/pytorch_model.bin\n",
      "tokenizer config file saved in bert-finetuned-sem_eval-english/checkpoint-4050/tokenizer_config.json\n",
      "Special tokens file saved in bert-finetuned-sem_eval-english/checkpoint-4050/special_tokens_map.json\n",
      "***** Running Evaluation *****\n",
      "  Num examples = 1896\n",
      "  Batch size = 8\n",
      "Saving model checkpoint to bert-finetuned-sem_eval-english/checkpoint-4725\n",
      "Configuration saved in bert-finetuned-sem_eval-english/checkpoint-4725/config.json\n",
      "Model weights saved in bert-finetuned-sem_eval-english/checkpoint-4725/pytorch_model.bin\n",
      "tokenizer config file saved in bert-finetuned-sem_eval-english/checkpoint-4725/tokenizer_config.json\n",
      "Special tokens file saved in bert-finetuned-sem_eval-english/checkpoint-4725/special_tokens_map.json\n",
      "***** Running Evaluation *****\n",
      "  Num examples = 1896\n",
      "  Batch size = 8\n",
      "Saving model checkpoint to bert-finetuned-sem_eval-english/checkpoint-5400\n",
      "Configuration saved in bert-finetuned-sem_eval-english/checkpoint-5400/config.json\n",
      "Model weights saved in bert-finetuned-sem_eval-english/checkpoint-5400/pytorch_model.bin\n",
      "tokenizer config file saved in bert-finetuned-sem_eval-english/checkpoint-5400/tokenizer_config.json\n",
      "Special tokens file saved in bert-finetuned-sem_eval-english/checkpoint-5400/special_tokens_map.json\n",
      "***** Running Evaluation *****\n",
      "  Num examples = 1896\n",
      "  Batch size = 8\n",
      "Saving model checkpoint to bert-finetuned-sem_eval-english/checkpoint-6075\n",
      "Configuration saved in bert-finetuned-sem_eval-english/checkpoint-6075/config.json\n",
      "Model weights saved in bert-finetuned-sem_eval-english/checkpoint-6075/pytorch_model.bin\n",
      "tokenizer config file saved in bert-finetuned-sem_eval-english/checkpoint-6075/tokenizer_config.json\n",
      "Special tokens file saved in bert-finetuned-sem_eval-english/checkpoint-6075/special_tokens_map.json\n",
      "***** Running Evaluation *****\n",
      "  Num examples = 1896\n",
      "  Batch size = 8\n",
      "Saving model checkpoint to bert-finetuned-sem_eval-english/checkpoint-6750\n",
      "Configuration saved in bert-finetuned-sem_eval-english/checkpoint-6750/config.json\n",
      "Model weights saved in bert-finetuned-sem_eval-english/checkpoint-6750/pytorch_model.bin\n",
      "tokenizer config file saved in bert-finetuned-sem_eval-english/checkpoint-6750/tokenizer_config.json\n",
      "Special tokens file saved in bert-finetuned-sem_eval-english/checkpoint-6750/special_tokens_map.json\n",
      "***** Running Evaluation *****\n",
      "  Num examples = 1896\n",
      "  Batch size = 8\n",
      "Saving model checkpoint to bert-finetuned-sem_eval-english/checkpoint-7425\n",
      "Configuration saved in bert-finetuned-sem_eval-english/checkpoint-7425/config.json\n",
      "Model weights saved in bert-finetuned-sem_eval-english/checkpoint-7425/pytorch_model.bin\n",
      "tokenizer config file saved in bert-finetuned-sem_eval-english/checkpoint-7425/tokenizer_config.json\n",
      "Special tokens file saved in bert-finetuned-sem_eval-english/checkpoint-7425/special_tokens_map.json\n",
      "***** Running Evaluation *****\n",
      "  Num examples = 1896\n",
      "  Batch size = 8\n",
      "Saving model checkpoint to bert-finetuned-sem_eval-english/checkpoint-8100\n",
      "Configuration saved in bert-finetuned-sem_eval-english/checkpoint-8100/config.json\n",
      "Model weights saved in bert-finetuned-sem_eval-english/checkpoint-8100/pytorch_model.bin\n",
      "tokenizer config file saved in bert-finetuned-sem_eval-english/checkpoint-8100/tokenizer_config.json\n",
      "Special tokens file saved in bert-finetuned-sem_eval-english/checkpoint-8100/special_tokens_map.json\n",
      "***** Running Evaluation *****\n",
      "  Num examples = 1896\n",
      "  Batch size = 8\n",
      "Saving model checkpoint to bert-finetuned-sem_eval-english/checkpoint-8775\n",
      "Configuration saved in bert-finetuned-sem_eval-english/checkpoint-8775/config.json\n",
      "Model weights saved in bert-finetuned-sem_eval-english/checkpoint-8775/pytorch_model.bin\n",
      "tokenizer config file saved in bert-finetuned-sem_eval-english/checkpoint-8775/tokenizer_config.json\n",
      "Special tokens file saved in bert-finetuned-sem_eval-english/checkpoint-8775/special_tokens_map.json\n"
     ]
    },
    {
     "name": "stderr",
     "output_type": "stream",
     "text": [
      "***** Running Evaluation *****\n",
      "  Num examples = 1896\n",
      "  Batch size = 8\n",
      "Saving model checkpoint to bert-finetuned-sem_eval-english/checkpoint-9450\n",
      "Configuration saved in bert-finetuned-sem_eval-english/checkpoint-9450/config.json\n",
      "Model weights saved in bert-finetuned-sem_eval-english/checkpoint-9450/pytorch_model.bin\n",
      "tokenizer config file saved in bert-finetuned-sem_eval-english/checkpoint-9450/tokenizer_config.json\n",
      "Special tokens file saved in bert-finetuned-sem_eval-english/checkpoint-9450/special_tokens_map.json\n",
      "***** Running Evaluation *****\n",
      "  Num examples = 1896\n",
      "  Batch size = 8\n",
      "Saving model checkpoint to bert-finetuned-sem_eval-english/checkpoint-10125\n",
      "Configuration saved in bert-finetuned-sem_eval-english/checkpoint-10125/config.json\n",
      "Model weights saved in bert-finetuned-sem_eval-english/checkpoint-10125/pytorch_model.bin\n",
      "tokenizer config file saved in bert-finetuned-sem_eval-english/checkpoint-10125/tokenizer_config.json\n",
      "Special tokens file saved in bert-finetuned-sem_eval-english/checkpoint-10125/special_tokens_map.json\n",
      "\n",
      "\n",
      "Training completed. Do not forget to share your model on huggingface.co/models =)\n",
      "\n",
      "\n",
      "Loading best model from bert-finetuned-sem_eval-english/checkpoint-6750 (score: 0.397817599480555).\n",
      "***** Running Evaluation *****\n",
      "  Num examples = 1896\n",
      "  Batch size = 8\n"
     ]
    },
    {
     "data": {
      "text/html": [
       "\n",
       "    <div>\n",
       "      \n",
       "      <progress value='474' max='237' style='width:300px; height:20px; vertical-align: middle;'></progress>\n",
       "      [237/237 00:30]\n",
       "    </div>\n",
       "    "
      ],
      "text/plain": [
       "<IPython.core.display.HTML object>"
      ]
     },
     "metadata": {},
     "output_type": "display_data"
    }
   ],
   "source": [
    "metrics = {\n",
    "    'p': [],\n",
    "    'r': [],\n",
    "    'f1': [],\n",
    "    'p_m': [],\n",
    "    'r_m': [],\n",
    "    'f1_m': [],\n",
    "    'roc_auc': [],\n",
    "    'accuracy': []\n",
    "}\n",
    "\n",
    "model = instantiate_model()\n",
    "\n",
    "## Freeze layers...\n",
    "if freeze_layers_bert:\n",
    "    for name, param in model.named_parameters():\n",
    "        if name.startswith((\"bert.embeddings\", \"bert.encoder\")):\n",
    "            param.requires_grad = False\n",
    "        print(name, param.requires_grad)\n",
    "\n",
    "trainer = Trainer(\n",
    "        model,\n",
    "        args,\n",
    "        train_dataset=encoded_dataset[\"train\"],\n",
    "        eval_dataset=encoded_dataset[\"validation\"],\n",
    "        tokenizer=tokenizer,\n",
    "        compute_metrics=compute_metrics\n",
    ")\n",
    "trainer.train()\n",
    "results = trainer.evaluate()\n",
    "for key in metrics:\n",
    "    metrics[key].append(results.get('eval_' + key))"
   ]
  },
  {
   "cell_type": "markdown",
   "metadata": {
    "colab": {
     "base_uri": "https://localhost:8080/",
     "height": 1000
    },
    "id": "KXmFds8js6P8",
    "outputId": "66ebb2ab-f93f-48aa-a4dc-36f55f2f8559"
   },
   "source": [
    "## Results"
   ]
  },
  {
   "cell_type": "code",
   "execution_count": 22,
   "metadata": {},
   "outputs": [
    {
     "data": {
      "text/html": [
       "<div>\n",
       "<style scoped>\n",
       "    .dataframe tbody tr th:only-of-type {\n",
       "        vertical-align: middle;\n",
       "    }\n",
       "\n",
       "    .dataframe tbody tr th {\n",
       "        vertical-align: top;\n",
       "    }\n",
       "\n",
       "    .dataframe thead th {\n",
       "        text-align: right;\n",
       "    }\n",
       "</style>\n",
       "<table border=\"1\" class=\"dataframe\">\n",
       "  <thead>\n",
       "    <tr style=\"text-align: right;\">\n",
       "      <th></th>\n",
       "      <th>P</th>\n",
       "      <th>R</th>\n",
       "      <th>F1</th>\n",
       "      <th>Roc Auc</th>\n",
       "      <th>Accuracy</th>\n",
       "    </tr>\n",
       "  </thead>\n",
       "  <tbody>\n",
       "    <tr>\n",
       "      <th></th>\n",
       "      <td>0.5161</td>\n",
       "      <td>0.355</td>\n",
       "      <td>0.3978</td>\n",
       "      <td>0.7051</td>\n",
       "      <td>0.0633</td>\n",
       "    </tr>\n",
       "    <tr>\n",
       "      <th>±</th>\n",
       "      <td>0.0000</td>\n",
       "      <td>0.000</td>\n",
       "      <td>0.0000</td>\n",
       "      <td>0.0000</td>\n",
       "      <td>0.0000</td>\n",
       "    </tr>\n",
       "  </tbody>\n",
       "</table>\n",
       "</div>"
      ],
      "text/plain": [
       "        P      R      F1  Roc Auc  Accuracy\n",
       "   0.5161  0.355  0.3978   0.7051    0.0633\n",
       "±  0.0000  0.000  0.0000   0.0000    0.0000"
      ]
     },
     "execution_count": 22,
     "metadata": {},
     "output_type": "execute_result"
    }
   ],
   "source": [
    "import pandas as pd\n",
    "import numpy as np\n",
    "\n",
    "decimal_digits = 4\n",
    "\n",
    "data = [[round(np.mean(metrics['p_m']), decimal_digits),\n",
    "         round(np.mean(metrics['r_m']), decimal_digits),\n",
    "         round(np.mean(metrics['f1_m']), decimal_digits),\n",
    "         round(np.mean(metrics['roc_auc']), decimal_digits),\n",
    "         round(np.mean(metrics['accuracy']), decimal_digits),\n",
    "        ],\n",
    "        [round(np.std(metrics['p_m']), decimal_digits),\n",
    "         round(np.std(metrics['r_m']), decimal_digits),\n",
    "         round(np.std(metrics['f1_m']), decimal_digits),\n",
    "         round(np.std(metrics['roc_auc']), decimal_digits),\n",
    "         round(np.std(metrics['accuracy']), decimal_digits),\n",
    "        ]]\n",
    "\n",
    "df = pd.DataFrame(data, index=[\"\", \"±\"], columns=[\"P\", \"R\", \"F1\", \"Roc Auc\", \"Accuracy\"])\n",
    "df\n",
    "# df.style.hide_index()"
   ]
  },
  {
   "cell_type": "markdown",
   "metadata": {
    "id": "hiloh9eMK91o"
   },
   "source": [
    "## Evaluate\n",
    "\n",
    "After training, we evaluate our model on the validation set."
   ]
  },
  {
   "cell_type": "code",
   "execution_count": 23,
   "metadata": {
    "colab": {
     "base_uri": "https://localhost:8080/",
     "height": 224
    },
    "id": "cMlebJ83LRYG",
    "outputId": "b18102e7-2198-4beb-c874-d39636f740ed"
   },
   "outputs": [
    {
     "name": "stderr",
     "output_type": "stream",
     "text": [
      "***** Running Evaluation *****\n",
      "  Num examples = 1896\n",
      "  Batch size = 8\n"
     ]
    },
    {
     "data": {
      "text/plain": [
       "{'eval_loss': 0.3956400752067566,\n",
       " 'eval_p': 0.6039783001808319,\n",
       " 'eval_r': 0.47271583582324267,\n",
       " 'eval_f1': 0.5303458009880029,\n",
       " 'eval_p_m': 0.5160524297401972,\n",
       " 'eval_r_m': 0.3549570646060203,\n",
       " 'eval_f1_m': 0.397817599480555,\n",
       " 'eval_roc_auc': 0.7051326715632801,\n",
       " 'eval_accuracy': 0.06329113924050633,\n",
       " 'eval_mcm': [[[1556, 89], [134, 117]],\n",
       "  [[1230, 170], [266, 230]],\n",
       "  [[1748, 10], [120, 18]],\n",
       "  [[1779, 14], [80, 23]],\n",
       "  [[1135, 186], [216, 359]],\n",
       "  [[1701, 31], [141, 23]],\n",
       "  [[1680, 84], [63, 69]],\n",
       "  [[1760, 6], [127, 3]],\n",
       "  [[915, 222], [191, 568]],\n",
       "  [[1250, 158], [192, 296]],\n",
       "  [[1693, 31], [123, 49]],\n",
       "  [[1293, 148], [265, 190]],\n",
       "  [[1826, 10], [55, 5]],\n",
       "  [[1762, 7], [127, 0]],\n",
       "  [[955, 308], [243, 390]],\n",
       "  [[1539, 89], [224, 44]],\n",
       "  [[1014, 195], [298, 389]],\n",
       "  [[1751, 18], [60, 67]],\n",
       "  [[1624, 49], [199, 24]],\n",
       "  [[1379, 146], [229, 142]]],\n",
       " 'eval_runtime': 14.6236,\n",
       " 'eval_samples_per_second': 129.654,\n",
       " 'eval_steps_per_second': 16.207,\n",
       " 'epoch': 15.0}"
      ]
     },
     "execution_count": 23,
     "metadata": {},
     "output_type": "execute_result"
    }
   ],
   "source": [
    "save_eval_result_df = df_validation\n",
    "\n",
    "results = trainer.evaluate()\n",
    "results"
   ]
  },
  {
   "cell_type": "code",
   "execution_count": 24,
   "metadata": {},
   "outputs": [],
   "source": [
    "#!python evaluator.py --inputDataset evaluationLabels --inputRun evaluationResults --outputDataset ."
   ]
  },
  {
   "cell_type": "markdown",
   "metadata": {},
   "source": [
    "## Save Results"
   ]
  },
  {
   "cell_type": "code",
   "execution_count": 25,
   "metadata": {},
   "outputs": [],
   "source": [
    "save_eval_result_df = df_validation"
   ]
  },
  {
   "cell_type": "markdown",
   "metadata": {
    "id": "3nmvJp0pLq-3"
   },
   "source": [
    "## Inference\n",
    "\n",
    "Let's test the model on a new sentence:"
   ]
  },
  {
   "cell_type": "code",
   "execution_count": 26,
   "metadata": {
    "id": "3fxjfr8PLD42"
   },
   "outputs": [],
   "source": [
    "text = \"I'm happy I can finally train a model for multi-label classification\"\n",
    "\n",
    "encoding = tokenizer(text, return_tensors=\"pt\")\n",
    "encoding = {k: v.to(trainer.model.device) for k,v in encoding.items()}\n",
    "\n",
    "outputs = trainer.model(**encoding)"
   ]
  },
  {
   "cell_type": "markdown",
   "metadata": {
    "id": "8THm5-XgNHPm"
   },
   "source": [
    "The logits that come out of the model are of shape (batch_size, num_labels). As we are only forwarding a single sentence through the model, the `batch_size` equals 1. The logits is a tensor that contains the (unnormalized) scores for every individual label."
   ]
  },
  {
   "cell_type": "code",
   "execution_count": 27,
   "metadata": {
    "colab": {
     "base_uri": "https://localhost:8080/"
    },
    "id": "KOBosj4UL2tU",
    "outputId": "be370f49-3840-4c76-b193-76083e49701e"
   },
   "outputs": [
    {
     "data": {
      "text/plain": [
       "torch.Size([1, 20])"
      ]
     },
     "execution_count": 27,
     "metadata": {},
     "output_type": "execute_result"
    }
   ],
   "source": [
    "logits = outputs.logits\n",
    "logits.shape"
   ]
  },
  {
   "cell_type": "markdown",
   "metadata": {
    "id": "DC4XdDaHNVcd"
   },
   "source": [
    "To turn them into actual predicted labels, we first apply a sigmoid function independently to every score, such that every score is turned into a number between 0 and 1, that can be interpreted as a \"probability\" for how certain the model is that a given class belongs to the input text.\n",
    "\n",
    "Next, we use a threshold (typically, 0.5) to turn every probability into either a 1 (which means, we predict the label for the given example) or a 0 (which means, we don't predict the label for the given example)."
   ]
  },
  {
   "cell_type": "code",
   "execution_count": 28,
   "metadata": {
    "colab": {
     "base_uri": "https://localhost:8080/"
    },
    "id": "mEkAQleMMT0k",
    "outputId": "fddb51cb-bf01-420a-fd5b-4a7c2e775446"
   },
   "outputs": [
    {
     "name": "stdout",
     "output_type": "stream",
     "text": [
      "['Achievement', 'Security: societal']\n"
     ]
    }
   ],
   "source": [
    "# apply sigmoid + threshold\n",
    "sigmoid = torch.nn.Sigmoid()\n",
    "probs = sigmoid(logits.squeeze().cpu())\n",
    "predictions = np.zeros(probs.shape)\n",
    "predictions[np.where(probs >= 0.5)] = 1\n",
    "# turn predicted id's into actual label names\n",
    "predicted_labels = [id2label[idx] for idx, label in enumerate(predictions) if label == 1.0]\n",
    "print(predicted_labels)"
   ]
  },
  {
   "cell_type": "code",
   "execution_count": 29,
   "metadata": {
    "scrolled": true
   },
   "outputs": [
    {
     "data": {
      "text/plain": [
       "BertForSequenceClassification(\n",
       "  (bert): BertModel(\n",
       "    (embeddings): BertEmbeddings(\n",
       "      (word_embeddings): Embedding(30522, 768, padding_idx=0)\n",
       "      (position_embeddings): Embedding(512, 768)\n",
       "      (token_type_embeddings): Embedding(2, 768)\n",
       "      (LayerNorm): LayerNorm((768,), eps=1e-12, elementwise_affine=True)\n",
       "      (dropout): Dropout(p=0.1, inplace=False)\n",
       "    )\n",
       "    (encoder): BertEncoder(\n",
       "      (layer): ModuleList(\n",
       "        (0): BertLayer(\n",
       "          (attention): BertAttention(\n",
       "            (self): BertSelfAttention(\n",
       "              (query): Linear(in_features=768, out_features=768, bias=True)\n",
       "              (key): Linear(in_features=768, out_features=768, bias=True)\n",
       "              (value): Linear(in_features=768, out_features=768, bias=True)\n",
       "              (dropout): Dropout(p=0.1, inplace=False)\n",
       "            )\n",
       "            (output): BertSelfOutput(\n",
       "              (dense): Linear(in_features=768, out_features=768, bias=True)\n",
       "              (LayerNorm): LayerNorm((768,), eps=1e-12, elementwise_affine=True)\n",
       "              (dropout): Dropout(p=0.1, inplace=False)\n",
       "            )\n",
       "          )\n",
       "          (intermediate): BertIntermediate(\n",
       "            (dense): Linear(in_features=768, out_features=3072, bias=True)\n",
       "            (intermediate_act_fn): GELUActivation()\n",
       "          )\n",
       "          (output): BertOutput(\n",
       "            (dense): Linear(in_features=3072, out_features=768, bias=True)\n",
       "            (LayerNorm): LayerNorm((768,), eps=1e-12, elementwise_affine=True)\n",
       "            (dropout): Dropout(p=0.1, inplace=False)\n",
       "          )\n",
       "        )\n",
       "        (1): BertLayer(\n",
       "          (attention): BertAttention(\n",
       "            (self): BertSelfAttention(\n",
       "              (query): Linear(in_features=768, out_features=768, bias=True)\n",
       "              (key): Linear(in_features=768, out_features=768, bias=True)\n",
       "              (value): Linear(in_features=768, out_features=768, bias=True)\n",
       "              (dropout): Dropout(p=0.1, inplace=False)\n",
       "            )\n",
       "            (output): BertSelfOutput(\n",
       "              (dense): Linear(in_features=768, out_features=768, bias=True)\n",
       "              (LayerNorm): LayerNorm((768,), eps=1e-12, elementwise_affine=True)\n",
       "              (dropout): Dropout(p=0.1, inplace=False)\n",
       "            )\n",
       "          )\n",
       "          (intermediate): BertIntermediate(\n",
       "            (dense): Linear(in_features=768, out_features=3072, bias=True)\n",
       "            (intermediate_act_fn): GELUActivation()\n",
       "          )\n",
       "          (output): BertOutput(\n",
       "            (dense): Linear(in_features=3072, out_features=768, bias=True)\n",
       "            (LayerNorm): LayerNorm((768,), eps=1e-12, elementwise_affine=True)\n",
       "            (dropout): Dropout(p=0.1, inplace=False)\n",
       "          )\n",
       "        )\n",
       "        (2): BertLayer(\n",
       "          (attention): BertAttention(\n",
       "            (self): BertSelfAttention(\n",
       "              (query): Linear(in_features=768, out_features=768, bias=True)\n",
       "              (key): Linear(in_features=768, out_features=768, bias=True)\n",
       "              (value): Linear(in_features=768, out_features=768, bias=True)\n",
       "              (dropout): Dropout(p=0.1, inplace=False)\n",
       "            )\n",
       "            (output): BertSelfOutput(\n",
       "              (dense): Linear(in_features=768, out_features=768, bias=True)\n",
       "              (LayerNorm): LayerNorm((768,), eps=1e-12, elementwise_affine=True)\n",
       "              (dropout): Dropout(p=0.1, inplace=False)\n",
       "            )\n",
       "          )\n",
       "          (intermediate): BertIntermediate(\n",
       "            (dense): Linear(in_features=768, out_features=3072, bias=True)\n",
       "            (intermediate_act_fn): GELUActivation()\n",
       "          )\n",
       "          (output): BertOutput(\n",
       "            (dense): Linear(in_features=3072, out_features=768, bias=True)\n",
       "            (LayerNorm): LayerNorm((768,), eps=1e-12, elementwise_affine=True)\n",
       "            (dropout): Dropout(p=0.1, inplace=False)\n",
       "          )\n",
       "        )\n",
       "        (3): BertLayer(\n",
       "          (attention): BertAttention(\n",
       "            (self): BertSelfAttention(\n",
       "              (query): Linear(in_features=768, out_features=768, bias=True)\n",
       "              (key): Linear(in_features=768, out_features=768, bias=True)\n",
       "              (value): Linear(in_features=768, out_features=768, bias=True)\n",
       "              (dropout): Dropout(p=0.1, inplace=False)\n",
       "            )\n",
       "            (output): BertSelfOutput(\n",
       "              (dense): Linear(in_features=768, out_features=768, bias=True)\n",
       "              (LayerNorm): LayerNorm((768,), eps=1e-12, elementwise_affine=True)\n",
       "              (dropout): Dropout(p=0.1, inplace=False)\n",
       "            )\n",
       "          )\n",
       "          (intermediate): BertIntermediate(\n",
       "            (dense): Linear(in_features=768, out_features=3072, bias=True)\n",
       "            (intermediate_act_fn): GELUActivation()\n",
       "          )\n",
       "          (output): BertOutput(\n",
       "            (dense): Linear(in_features=3072, out_features=768, bias=True)\n",
       "            (LayerNorm): LayerNorm((768,), eps=1e-12, elementwise_affine=True)\n",
       "            (dropout): Dropout(p=0.1, inplace=False)\n",
       "          )\n",
       "        )\n",
       "        (4): BertLayer(\n",
       "          (attention): BertAttention(\n",
       "            (self): BertSelfAttention(\n",
       "              (query): Linear(in_features=768, out_features=768, bias=True)\n",
       "              (key): Linear(in_features=768, out_features=768, bias=True)\n",
       "              (value): Linear(in_features=768, out_features=768, bias=True)\n",
       "              (dropout): Dropout(p=0.1, inplace=False)\n",
       "            )\n",
       "            (output): BertSelfOutput(\n",
       "              (dense): Linear(in_features=768, out_features=768, bias=True)\n",
       "              (LayerNorm): LayerNorm((768,), eps=1e-12, elementwise_affine=True)\n",
       "              (dropout): Dropout(p=0.1, inplace=False)\n",
       "            )\n",
       "          )\n",
       "          (intermediate): BertIntermediate(\n",
       "            (dense): Linear(in_features=768, out_features=3072, bias=True)\n",
       "            (intermediate_act_fn): GELUActivation()\n",
       "          )\n",
       "          (output): BertOutput(\n",
       "            (dense): Linear(in_features=3072, out_features=768, bias=True)\n",
       "            (LayerNorm): LayerNorm((768,), eps=1e-12, elementwise_affine=True)\n",
       "            (dropout): Dropout(p=0.1, inplace=False)\n",
       "          )\n",
       "        )\n",
       "        (5): BertLayer(\n",
       "          (attention): BertAttention(\n",
       "            (self): BertSelfAttention(\n",
       "              (query): Linear(in_features=768, out_features=768, bias=True)\n",
       "              (key): Linear(in_features=768, out_features=768, bias=True)\n",
       "              (value): Linear(in_features=768, out_features=768, bias=True)\n",
       "              (dropout): Dropout(p=0.1, inplace=False)\n",
       "            )\n",
       "            (output): BertSelfOutput(\n",
       "              (dense): Linear(in_features=768, out_features=768, bias=True)\n",
       "              (LayerNorm): LayerNorm((768,), eps=1e-12, elementwise_affine=True)\n",
       "              (dropout): Dropout(p=0.1, inplace=False)\n",
       "            )\n",
       "          )\n",
       "          (intermediate): BertIntermediate(\n",
       "            (dense): Linear(in_features=768, out_features=3072, bias=True)\n",
       "            (intermediate_act_fn): GELUActivation()\n",
       "          )\n",
       "          (output): BertOutput(\n",
       "            (dense): Linear(in_features=3072, out_features=768, bias=True)\n",
       "            (LayerNorm): LayerNorm((768,), eps=1e-12, elementwise_affine=True)\n",
       "            (dropout): Dropout(p=0.1, inplace=False)\n",
       "          )\n",
       "        )\n",
       "        (6): BertLayer(\n",
       "          (attention): BertAttention(\n",
       "            (self): BertSelfAttention(\n",
       "              (query): Linear(in_features=768, out_features=768, bias=True)\n",
       "              (key): Linear(in_features=768, out_features=768, bias=True)\n",
       "              (value): Linear(in_features=768, out_features=768, bias=True)\n",
       "              (dropout): Dropout(p=0.1, inplace=False)\n",
       "            )\n",
       "            (output): BertSelfOutput(\n",
       "              (dense): Linear(in_features=768, out_features=768, bias=True)\n",
       "              (LayerNorm): LayerNorm((768,), eps=1e-12, elementwise_affine=True)\n",
       "              (dropout): Dropout(p=0.1, inplace=False)\n",
       "            )\n",
       "          )\n",
       "          (intermediate): BertIntermediate(\n",
       "            (dense): Linear(in_features=768, out_features=3072, bias=True)\n",
       "            (intermediate_act_fn): GELUActivation()\n",
       "          )\n",
       "          (output): BertOutput(\n",
       "            (dense): Linear(in_features=3072, out_features=768, bias=True)\n",
       "            (LayerNorm): LayerNorm((768,), eps=1e-12, elementwise_affine=True)\n",
       "            (dropout): Dropout(p=0.1, inplace=False)\n",
       "          )\n",
       "        )\n",
       "        (7): BertLayer(\n",
       "          (attention): BertAttention(\n",
       "            (self): BertSelfAttention(\n",
       "              (query): Linear(in_features=768, out_features=768, bias=True)\n",
       "              (key): Linear(in_features=768, out_features=768, bias=True)\n",
       "              (value): Linear(in_features=768, out_features=768, bias=True)\n",
       "              (dropout): Dropout(p=0.1, inplace=False)\n",
       "            )\n",
       "            (output): BertSelfOutput(\n",
       "              (dense): Linear(in_features=768, out_features=768, bias=True)\n",
       "              (LayerNorm): LayerNorm((768,), eps=1e-12, elementwise_affine=True)\n",
       "              (dropout): Dropout(p=0.1, inplace=False)\n",
       "            )\n",
       "          )\n",
       "          (intermediate): BertIntermediate(\n",
       "            (dense): Linear(in_features=768, out_features=3072, bias=True)\n",
       "            (intermediate_act_fn): GELUActivation()\n",
       "          )\n",
       "          (output): BertOutput(\n",
       "            (dense): Linear(in_features=3072, out_features=768, bias=True)\n",
       "            (LayerNorm): LayerNorm((768,), eps=1e-12, elementwise_affine=True)\n",
       "            (dropout): Dropout(p=0.1, inplace=False)\n",
       "          )\n",
       "        )\n",
       "        (8): BertLayer(\n",
       "          (attention): BertAttention(\n",
       "            (self): BertSelfAttention(\n",
       "              (query): Linear(in_features=768, out_features=768, bias=True)\n",
       "              (key): Linear(in_features=768, out_features=768, bias=True)\n",
       "              (value): Linear(in_features=768, out_features=768, bias=True)\n",
       "              (dropout): Dropout(p=0.1, inplace=False)\n",
       "            )\n",
       "            (output): BertSelfOutput(\n",
       "              (dense): Linear(in_features=768, out_features=768, bias=True)\n",
       "              (LayerNorm): LayerNorm((768,), eps=1e-12, elementwise_affine=True)\n",
       "              (dropout): Dropout(p=0.1, inplace=False)\n",
       "            )\n",
       "          )\n",
       "          (intermediate): BertIntermediate(\n",
       "            (dense): Linear(in_features=768, out_features=3072, bias=True)\n",
       "            (intermediate_act_fn): GELUActivation()\n",
       "          )\n",
       "          (output): BertOutput(\n",
       "            (dense): Linear(in_features=3072, out_features=768, bias=True)\n",
       "            (LayerNorm): LayerNorm((768,), eps=1e-12, elementwise_affine=True)\n",
       "            (dropout): Dropout(p=0.1, inplace=False)\n",
       "          )\n",
       "        )\n",
       "        (9): BertLayer(\n",
       "          (attention): BertAttention(\n",
       "            (self): BertSelfAttention(\n",
       "              (query): Linear(in_features=768, out_features=768, bias=True)\n",
       "              (key): Linear(in_features=768, out_features=768, bias=True)\n",
       "              (value): Linear(in_features=768, out_features=768, bias=True)\n",
       "              (dropout): Dropout(p=0.1, inplace=False)\n",
       "            )\n",
       "            (output): BertSelfOutput(\n",
       "              (dense): Linear(in_features=768, out_features=768, bias=True)\n",
       "              (LayerNorm): LayerNorm((768,), eps=1e-12, elementwise_affine=True)\n",
       "              (dropout): Dropout(p=0.1, inplace=False)\n",
       "            )\n",
       "          )\n",
       "          (intermediate): BertIntermediate(\n",
       "            (dense): Linear(in_features=768, out_features=3072, bias=True)\n",
       "            (intermediate_act_fn): GELUActivation()\n",
       "          )\n",
       "          (output): BertOutput(\n",
       "            (dense): Linear(in_features=3072, out_features=768, bias=True)\n",
       "            (LayerNorm): LayerNorm((768,), eps=1e-12, elementwise_affine=True)\n",
       "            (dropout): Dropout(p=0.1, inplace=False)\n",
       "          )\n",
       "        )\n",
       "        (10): BertLayer(\n",
       "          (attention): BertAttention(\n",
       "            (self): BertSelfAttention(\n",
       "              (query): Linear(in_features=768, out_features=768, bias=True)\n",
       "              (key): Linear(in_features=768, out_features=768, bias=True)\n",
       "              (value): Linear(in_features=768, out_features=768, bias=True)\n",
       "              (dropout): Dropout(p=0.1, inplace=False)\n",
       "            )\n",
       "            (output): BertSelfOutput(\n",
       "              (dense): Linear(in_features=768, out_features=768, bias=True)\n",
       "              (LayerNorm): LayerNorm((768,), eps=1e-12, elementwise_affine=True)\n",
       "              (dropout): Dropout(p=0.1, inplace=False)\n",
       "            )\n",
       "          )\n",
       "          (intermediate): BertIntermediate(\n",
       "            (dense): Linear(in_features=768, out_features=3072, bias=True)\n",
       "            (intermediate_act_fn): GELUActivation()\n",
       "          )\n",
       "          (output): BertOutput(\n",
       "            (dense): Linear(in_features=3072, out_features=768, bias=True)\n",
       "            (LayerNorm): LayerNorm((768,), eps=1e-12, elementwise_affine=True)\n",
       "            (dropout): Dropout(p=0.1, inplace=False)\n",
       "          )\n",
       "        )\n",
       "        (11): BertLayer(\n",
       "          (attention): BertAttention(\n",
       "            (self): BertSelfAttention(\n",
       "              (query): Linear(in_features=768, out_features=768, bias=True)\n",
       "              (key): Linear(in_features=768, out_features=768, bias=True)\n",
       "              (value): Linear(in_features=768, out_features=768, bias=True)\n",
       "              (dropout): Dropout(p=0.1, inplace=False)\n",
       "            )\n",
       "            (output): BertSelfOutput(\n",
       "              (dense): Linear(in_features=768, out_features=768, bias=True)\n",
       "              (LayerNorm): LayerNorm((768,), eps=1e-12, elementwise_affine=True)\n",
       "              (dropout): Dropout(p=0.1, inplace=False)\n",
       "            )\n",
       "          )\n",
       "          (intermediate): BertIntermediate(\n",
       "            (dense): Linear(in_features=768, out_features=3072, bias=True)\n",
       "            (intermediate_act_fn): GELUActivation()\n",
       "          )\n",
       "          (output): BertOutput(\n",
       "            (dense): Linear(in_features=3072, out_features=768, bias=True)\n",
       "            (LayerNorm): LayerNorm((768,), eps=1e-12, elementwise_affine=True)\n",
       "            (dropout): Dropout(p=0.1, inplace=False)\n",
       "          )\n",
       "        )\n",
       "      )\n",
       "    )\n",
       "    (pooler): BertPooler(\n",
       "      (dense): Linear(in_features=768, out_features=768, bias=True)\n",
       "      (activation): Tanh()\n",
       "    )\n",
       "  )\n",
       "  (dropout): Dropout(p=0.1, inplace=False)\n",
       "  (classifier): Linear(in_features=768, out_features=20, bias=True)\n",
       ")"
      ]
     },
     "execution_count": 29,
     "metadata": {},
     "output_type": "execute_result"
    }
   ],
   "source": [
    "model"
   ]
  },
  {
   "cell_type": "code",
   "execution_count": 30,
   "metadata": {
    "scrolled": true
   },
   "outputs": [],
   "source": [
    "hidden_states = outputs.hidden_states\n",
    "hidden_states"
   ]
  },
  {
   "cell_type": "code",
   "execution_count": null,
   "metadata": {},
   "outputs": [],
   "source": []
  },
  {
   "cell_type": "code",
   "execution_count": null,
   "metadata": {},
   "outputs": [],
   "source": []
  }
 ],
 "metadata": {
  "accelerator": "GPU",
  "colab": {
   "authorship_tag": "ABX9TyMiblo1Ci0GTlAbbA5wB3mn",
   "collapsed_sections": [],
   "include_colab_link": true,
   "name": "Fine-tuning BERT (and friends) for multi-label text classification.ipynb",
   "provenance": []
  },
  "kernelspec": {
   "display_name": "Python 3 (ipykernel)",
   "language": "python",
   "name": "python3"
  },
  "language_info": {
   "codemirror_mode": {
    "name": "ipython",
    "version": 3
   },
   "file_extension": ".py",
   "mimetype": "text/x-python",
   "name": "python",
   "nbconvert_exporter": "python",
   "pygments_lexer": "ipython3",
   "version": "3.11.1"
  },
  "widgets": {
   "application/vnd.jupyter.widget-state+json": {
    "091f8220f33241f288faa0612853585f": {
     "model_module": "@jupyter-widgets/controls",
     "model_module_version": "1.5.0",
     "model_name": "FloatProgressModel",
     "state": {
      "_dom_classes": [],
      "_model_module": "@jupyter-widgets/controls",
      "_model_module_version": "1.5.0",
      "_model_name": "FloatProgressModel",
      "_view_count": null,
      "_view_module": "@jupyter-widgets/controls",
      "_view_module_version": "1.5.0",
      "_view_name": "ProgressView",
      "bar_style": "success",
      "description": "",
      "description_tooltip": null,
      "layout": "IPY_MODEL_6111a73e684a47769bda7183a836ee91",
      "max": 3,
      "min": 0,
      "orientation": "horizontal",
      "style": "IPY_MODEL_8b1899a0c4b144d7a5e6599f8afb8b65",
      "value": 3
     }
    },
    "1045bb16e3694410898a73cf1b848917": {
     "model_module": "@jupyter-widgets/controls",
     "model_module_version": "1.5.0",
     "model_name": "HTMLModel",
     "state": {
      "_dom_classes": [],
      "_model_module": "@jupyter-widgets/controls",
      "_model_module_version": "1.5.0",
      "_model_name": "HTMLModel",
      "_view_count": null,
      "_view_module": "@jupyter-widgets/controls",
      "_view_module_version": "1.5.0",
      "_view_name": "HTMLView",
      "description": "",
      "description_tooltip": null,
      "layout": "IPY_MODEL_bbba60f793c14100934a268063f63d26",
      "placeholder": "​",
      "style": "IPY_MODEL_cd3570ddf67541d7818d97e236c54e54",
      "value": " 3/3 [00:00&lt;00:00, 75.93it/s]"
     }
    },
    "308fa6a7348140ec981a8d6c7d31f346": {
     "model_module": "@jupyter-widgets/base",
     "model_module_version": "1.2.0",
     "model_name": "LayoutModel",
     "state": {
      "_model_module": "@jupyter-widgets/base",
      "_model_module_version": "1.2.0",
      "_model_name": "LayoutModel",
      "_view_count": null,
      "_view_module": "@jupyter-widgets/base",
      "_view_module_version": "1.2.0",
      "_view_name": "LayoutView",
      "align_content": null,
      "align_items": null,
      "align_self": null,
      "border": null,
      "bottom": null,
      "display": null,
      "flex": null,
      "flex_flow": null,
      "grid_area": null,
      "grid_auto_columns": null,
      "grid_auto_flow": null,
      "grid_auto_rows": null,
      "grid_column": null,
      "grid_gap": null,
      "grid_row": null,
      "grid_template_areas": null,
      "grid_template_columns": null,
      "grid_template_rows": null,
      "height": null,
      "justify_content": null,
      "justify_items": null,
      "left": null,
      "margin": null,
      "max_height": null,
      "max_width": null,
      "min_height": null,
      "min_width": null,
      "object_fit": null,
      "object_position": null,
      "order": null,
      "overflow": null,
      "overflow_x": null,
      "overflow_y": null,
      "padding": null,
      "right": null,
      "top": null,
      "visibility": null,
      "width": null
     }
    },
    "5080d322a8034924b652b379c04667ed": {
     "model_module": "@jupyter-widgets/base",
     "model_module_version": "1.2.0",
     "model_name": "LayoutModel",
     "state": {
      "_model_module": "@jupyter-widgets/base",
      "_model_module_version": "1.2.0",
      "_model_name": "LayoutModel",
      "_view_count": null,
      "_view_module": "@jupyter-widgets/base",
      "_view_module_version": "1.2.0",
      "_view_name": "LayoutView",
      "align_content": null,
      "align_items": null,
      "align_self": null,
      "border": null,
      "bottom": null,
      "display": null,
      "flex": null,
      "flex_flow": null,
      "grid_area": null,
      "grid_auto_columns": null,
      "grid_auto_flow": null,
      "grid_auto_rows": null,
      "grid_column": null,
      "grid_gap": null,
      "grid_row": null,
      "grid_template_areas": null,
      "grid_template_columns": null,
      "grid_template_rows": null,
      "height": null,
      "justify_content": null,
      "justify_items": null,
      "left": null,
      "margin": null,
      "max_height": null,
      "max_width": null,
      "min_height": null,
      "min_width": null,
      "object_fit": null,
      "object_position": null,
      "order": null,
      "overflow": null,
      "overflow_x": null,
      "overflow_y": null,
      "padding": null,
      "right": null,
      "top": null,
      "visibility": null,
      "width": null
     }
    },
    "6111a73e684a47769bda7183a836ee91": {
     "model_module": "@jupyter-widgets/base",
     "model_module_version": "1.2.0",
     "model_name": "LayoutModel",
     "state": {
      "_model_module": "@jupyter-widgets/base",
      "_model_module_version": "1.2.0",
      "_model_name": "LayoutModel",
      "_view_count": null,
      "_view_module": "@jupyter-widgets/base",
      "_view_module_version": "1.2.0",
      "_view_name": "LayoutView",
      "align_content": null,
      "align_items": null,
      "align_self": null,
      "border": null,
      "bottom": null,
      "display": null,
      "flex": null,
      "flex_flow": null,
      "grid_area": null,
      "grid_auto_columns": null,
      "grid_auto_flow": null,
      "grid_auto_rows": null,
      "grid_column": null,
      "grid_gap": null,
      "grid_row": null,
      "grid_template_areas": null,
      "grid_template_columns": null,
      "grid_template_rows": null,
      "height": null,
      "justify_content": null,
      "justify_items": null,
      "left": null,
      "margin": null,
      "max_height": null,
      "max_width": null,
      "min_height": null,
      "min_width": null,
      "object_fit": null,
      "object_position": null,
      "order": null,
      "overflow": null,
      "overflow_x": null,
      "overflow_y": null,
      "padding": null,
      "right": null,
      "top": null,
      "visibility": null,
      "width": null
     }
    },
    "8b1899a0c4b144d7a5e6599f8afb8b65": {
     "model_module": "@jupyter-widgets/controls",
     "model_module_version": "1.5.0",
     "model_name": "ProgressStyleModel",
     "state": {
      "_model_module": "@jupyter-widgets/controls",
      "_model_module_version": "1.5.0",
      "_model_name": "ProgressStyleModel",
      "_view_count": null,
      "_view_module": "@jupyter-widgets/base",
      "_view_module_version": "1.2.0",
      "_view_name": "StyleView",
      "bar_color": null,
      "description_width": ""
     }
    },
    "8bc92587e35443488445e7521fbd0a13": {
     "model_module": "@jupyter-widgets/controls",
     "model_module_version": "1.5.0",
     "model_name": "HTMLModel",
     "state": {
      "_dom_classes": [],
      "_model_module": "@jupyter-widgets/controls",
      "_model_module_version": "1.5.0",
      "_model_name": "HTMLModel",
      "_view_count": null,
      "_view_module": "@jupyter-widgets/controls",
      "_view_module_version": "1.5.0",
      "_view_name": "HTMLView",
      "description": "",
      "description_tooltip": null,
      "layout": "IPY_MODEL_5080d322a8034924b652b379c04667ed",
      "placeholder": "​",
      "style": "IPY_MODEL_cb95e545fbdd4e99903bf634df694c9f",
      "value": "100%"
     }
    },
    "9a1aa9f2cc29473f9f8e5459d2641e76": {
     "model_module": "@jupyter-widgets/controls",
     "model_module_version": "1.5.0",
     "model_name": "HBoxModel",
     "state": {
      "_dom_classes": [],
      "_model_module": "@jupyter-widgets/controls",
      "_model_module_version": "1.5.0",
      "_model_name": "HBoxModel",
      "_view_count": null,
      "_view_module": "@jupyter-widgets/controls",
      "_view_module_version": "1.5.0",
      "_view_name": "HBoxView",
      "box_style": "",
      "children": [
       "IPY_MODEL_8bc92587e35443488445e7521fbd0a13",
       "IPY_MODEL_091f8220f33241f288faa0612853585f",
       "IPY_MODEL_1045bb16e3694410898a73cf1b848917"
      ],
      "layout": "IPY_MODEL_308fa6a7348140ec981a8d6c7d31f346"
     }
    },
    "bbba60f793c14100934a268063f63d26": {
     "model_module": "@jupyter-widgets/base",
     "model_module_version": "1.2.0",
     "model_name": "LayoutModel",
     "state": {
      "_model_module": "@jupyter-widgets/base",
      "_model_module_version": "1.2.0",
      "_model_name": "LayoutModel",
      "_view_count": null,
      "_view_module": "@jupyter-widgets/base",
      "_view_module_version": "1.2.0",
      "_view_name": "LayoutView",
      "align_content": null,
      "align_items": null,
      "align_self": null,
      "border": null,
      "bottom": null,
      "display": null,
      "flex": null,
      "flex_flow": null,
      "grid_area": null,
      "grid_auto_columns": null,
      "grid_auto_flow": null,
      "grid_auto_rows": null,
      "grid_column": null,
      "grid_gap": null,
      "grid_row": null,
      "grid_template_areas": null,
      "grid_template_columns": null,
      "grid_template_rows": null,
      "height": null,
      "justify_content": null,
      "justify_items": null,
      "left": null,
      "margin": null,
      "max_height": null,
      "max_width": null,
      "min_height": null,
      "min_width": null,
      "object_fit": null,
      "object_position": null,
      "order": null,
      "overflow": null,
      "overflow_x": null,
      "overflow_y": null,
      "padding": null,
      "right": null,
      "top": null,
      "visibility": null,
      "width": null
     }
    },
    "cb95e545fbdd4e99903bf634df694c9f": {
     "model_module": "@jupyter-widgets/controls",
     "model_module_version": "1.5.0",
     "model_name": "DescriptionStyleModel",
     "state": {
      "_model_module": "@jupyter-widgets/controls",
      "_model_module_version": "1.5.0",
      "_model_name": "DescriptionStyleModel",
      "_view_count": null,
      "_view_module": "@jupyter-widgets/base",
      "_view_module_version": "1.2.0",
      "_view_name": "StyleView",
      "description_width": ""
     }
    },
    "cd3570ddf67541d7818d97e236c54e54": {
     "model_module": "@jupyter-widgets/controls",
     "model_module_version": "1.5.0",
     "model_name": "DescriptionStyleModel",
     "state": {
      "_model_module": "@jupyter-widgets/controls",
      "_model_module_version": "1.5.0",
      "_model_name": "DescriptionStyleModel",
      "_view_count": null,
      "_view_module": "@jupyter-widgets/base",
      "_view_module_version": "1.2.0",
      "_view_name": "StyleView",
      "description_width": ""
     }
    }
   }
  }
 },
 "nbformat": 4,
 "nbformat_minor": 1
}
